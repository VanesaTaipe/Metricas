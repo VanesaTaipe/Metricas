{
  "cells": [
    {
      "cell_type": "markdown",
      "id": "f1f19a2a",
      "metadata": {
        "id": "f1f19a2a"
      },
      "source": [
        "### Métricas de clasificación\n",
        "\n",
        "Reutilizamos el cuaderno anterior."
      ]
    },
    {
      "cell_type": "code",
      "execution_count": null,
      "id": "9b0e7374",
      "metadata": {
        "id": "9b0e7374"
      },
      "outputs": [],
      "source": [
        "import pandas as pd\n",
        "import numpy as np\n",
        "\n",
        "import seaborn as sns\n",
        "from matplotlib import pyplot as plt\n",
        "%matplotlib inline"
      ]
    },
    {
      "cell_type": "code",
      "execution_count": null,
      "id": "569c0b20",
      "metadata": {
        "id": "569c0b20"
      },
      "outputs": [],
      "source": [
        "from sklearn.model_selection import train_test_split\n",
        "from sklearn.feature_extraction import DictVectorizer\n",
        "from sklearn.linear_model import LogisticRegression"
      ]
    },
    {
      "cell_type": "code",
      "execution_count": null,
      "id": "a4fd0aca",
      "metadata": {
        "id": "a4fd0aca"
      },
      "outputs": [],
      "source": [
        "df = pd.read_csv('Data.csv')\n",
        "\n",
        "df['TotalCharges'] = pd.to_numeric(df['TotalCharges'], errors='coerce')\n",
        "df['TotalCharges'] = df['TotalCharges'].fillna(0)\n",
        "\n",
        "df.columns = df.columns.str.lower().str.replace(' ', '_')\n",
        "\n",
        "cadena_columnas = list(df.dtypes[df.dtypes == 'object'].index)\n",
        "\n",
        "for col in cadena_columnas:\n",
        "    df[col] = df[col].str.lower().str.replace(' ', '_')\n",
        "\n",
        "df.churn = (df.churn == 'yes').astype(int)"
      ]
    },
    {
      "cell_type": "markdown",
      "id": "d876dbcd",
      "metadata": {
        "id": "d876dbcd"
      },
      "source": [
        "Modelo completo"
      ]
    },
    {
      "cell_type": "code",
      "execution_count": null,
      "id": "c45f8adc",
      "metadata": {
        "id": "c45f8adc"
      },
      "outputs": [],
      "source": [
        "df_train_completo, df_test = train_test_split(df, test_size=0.2, random_state=1)\n",
        "df_train, df_val = train_test_split(df_train_completo, test_size=0.33, random_state=11)\n",
        "\n",
        "y_train = df_train.churn.values\n",
        "y_val = df_val.churn.values\n",
        "\n",
        "del df_train['churn']\n",
        "del df_val['churn']"
      ]
    },
    {
      "cell_type": "code",
      "execution_count": null,
      "id": "83871fdb",
      "metadata": {
        "id": "83871fdb"
      },
      "outputs": [],
      "source": [
        "categoricas = ['gender', 'seniorcitizen', 'partner', 'dependents',\n",
        "               'phoneservice', 'multiplelines', 'internetservice',\n",
        "               'onlinesecurity', 'onlinebackup', 'deviceprotection',\n",
        "               'techsupport', 'streamingtv', 'streamingmovies',\n",
        "               'contract', 'paperlessbilling', 'paymentmethod']\n",
        "numericas = ['tenure', 'monthlycharges', 'totalcharges']\n"
      ]
    },
    {
      "cell_type": "code",
      "execution_count": null,
      "id": "0e4936aa",
      "metadata": {
        "id": "0e4936aa"
      },
      "outputs": [],
      "source": [
        "train_dict = df_train[categoricas + numericas].to_dict(orient='records')\n",
        "dv = DictVectorizer(sparse=False)\n",
        "dv.fit(train_dict)\n",
        "\n",
        "X_train = dv.transform(train_dict)"
      ]
    },
    {
      "cell_type": "code",
      "execution_count": null,
      "id": "17d07e39",
      "metadata": {
        "colab": {
          "base_uri": "https://localhost:8080/",
          "height": 75
        },
        "id": "17d07e39",
        "outputId": "ebe2cc12-c655-4281-8be0-5e3e4a35b621"
      },
      "outputs": [
        {
          "output_type": "execute_result",
          "data": {
            "text/plain": [
              "LogisticRegression(random_state=1, solver='liblinear')"
            ],
            "text/html": [
              "<style>#sk-container-id-1 {color: black;background-color: white;}#sk-container-id-1 pre{padding: 0;}#sk-container-id-1 div.sk-toggleable {background-color: white;}#sk-container-id-1 label.sk-toggleable__label {cursor: pointer;display: block;width: 100%;margin-bottom: 0;padding: 0.3em;box-sizing: border-box;text-align: center;}#sk-container-id-1 label.sk-toggleable__label-arrow:before {content: \"▸\";float: left;margin-right: 0.25em;color: #696969;}#sk-container-id-1 label.sk-toggleable__label-arrow:hover:before {color: black;}#sk-container-id-1 div.sk-estimator:hover label.sk-toggleable__label-arrow:before {color: black;}#sk-container-id-1 div.sk-toggleable__content {max-height: 0;max-width: 0;overflow: hidden;text-align: left;background-color: #f0f8ff;}#sk-container-id-1 div.sk-toggleable__content pre {margin: 0.2em;color: black;border-radius: 0.25em;background-color: #f0f8ff;}#sk-container-id-1 input.sk-toggleable__control:checked~div.sk-toggleable__content {max-height: 200px;max-width: 100%;overflow: auto;}#sk-container-id-1 input.sk-toggleable__control:checked~label.sk-toggleable__label-arrow:before {content: \"▾\";}#sk-container-id-1 div.sk-estimator input.sk-toggleable__control:checked~label.sk-toggleable__label {background-color: #d4ebff;}#sk-container-id-1 div.sk-label input.sk-toggleable__control:checked~label.sk-toggleable__label {background-color: #d4ebff;}#sk-container-id-1 input.sk-hidden--visually {border: 0;clip: rect(1px 1px 1px 1px);clip: rect(1px, 1px, 1px, 1px);height: 1px;margin: -1px;overflow: hidden;padding: 0;position: absolute;width: 1px;}#sk-container-id-1 div.sk-estimator {font-family: monospace;background-color: #f0f8ff;border: 1px dotted black;border-radius: 0.25em;box-sizing: border-box;margin-bottom: 0.5em;}#sk-container-id-1 div.sk-estimator:hover {background-color: #d4ebff;}#sk-container-id-1 div.sk-parallel-item::after {content: \"\";width: 100%;border-bottom: 1px solid gray;flex-grow: 1;}#sk-container-id-1 div.sk-label:hover label.sk-toggleable__label {background-color: #d4ebff;}#sk-container-id-1 div.sk-serial::before {content: \"\";position: absolute;border-left: 1px solid gray;box-sizing: border-box;top: 0;bottom: 0;left: 50%;z-index: 0;}#sk-container-id-1 div.sk-serial {display: flex;flex-direction: column;align-items: center;background-color: white;padding-right: 0.2em;padding-left: 0.2em;position: relative;}#sk-container-id-1 div.sk-item {position: relative;z-index: 1;}#sk-container-id-1 div.sk-parallel {display: flex;align-items: stretch;justify-content: center;background-color: white;position: relative;}#sk-container-id-1 div.sk-item::before, #sk-container-id-1 div.sk-parallel-item::before {content: \"\";position: absolute;border-left: 1px solid gray;box-sizing: border-box;top: 0;bottom: 0;left: 50%;z-index: -1;}#sk-container-id-1 div.sk-parallel-item {display: flex;flex-direction: column;z-index: 1;position: relative;background-color: white;}#sk-container-id-1 div.sk-parallel-item:first-child::after {align-self: flex-end;width: 50%;}#sk-container-id-1 div.sk-parallel-item:last-child::after {align-self: flex-start;width: 50%;}#sk-container-id-1 div.sk-parallel-item:only-child::after {width: 0;}#sk-container-id-1 div.sk-dashed-wrapped {border: 1px dashed gray;margin: 0 0.4em 0.5em 0.4em;box-sizing: border-box;padding-bottom: 0.4em;background-color: white;}#sk-container-id-1 div.sk-label label {font-family: monospace;font-weight: bold;display: inline-block;line-height: 1.2em;}#sk-container-id-1 div.sk-label-container {text-align: center;}#sk-container-id-1 div.sk-container {/* jupyter's `normalize.less` sets `[hidden] { display: none; }` but bootstrap.min.css set `[hidden] { display: none !important; }` so we also need the `!important` here to be able to override the default hidden behavior on the sphinx rendered scikit-learn.org. See: https://github.com/scikit-learn/scikit-learn/issues/21755 */display: inline-block !important;position: relative;}#sk-container-id-1 div.sk-text-repr-fallback {display: none;}</style><div id=\"sk-container-id-1\" class=\"sk-top-container\"><div class=\"sk-text-repr-fallback\"><pre>LogisticRegression(random_state=1, solver=&#x27;liblinear&#x27;)</pre><b>In a Jupyter environment, please rerun this cell to show the HTML representation or trust the notebook. <br />On GitHub, the HTML representation is unable to render, please try loading this page with nbviewer.org.</b></div><div class=\"sk-container\" hidden><div class=\"sk-item\"><div class=\"sk-estimator sk-toggleable\"><input class=\"sk-toggleable__control sk-hidden--visually\" id=\"sk-estimator-id-1\" type=\"checkbox\" checked><label for=\"sk-estimator-id-1\" class=\"sk-toggleable__label sk-toggleable__label-arrow\">LogisticRegression</label><div class=\"sk-toggleable__content\"><pre>LogisticRegression(random_state=1, solver=&#x27;liblinear&#x27;)</pre></div></div></div></div></div>"
            ]
          },
          "metadata": {},
          "execution_count": 7
        }
      ],
      "source": [
        "import warnings\n",
        "warnings.filterwarnings(\"ignore\")\n",
        "\n",
        "modeloRL = LogisticRegression(solver='liblinear', random_state=1)\n",
        "modeloRL.fit(X_train, y_train)"
      ]
    },
    {
      "cell_type": "code",
      "execution_count": null,
      "id": "241aa824",
      "metadata": {
        "id": "241aa824"
      },
      "outputs": [],
      "source": [
        "val_dict = df_val[categoricas + numericas].to_dict(orient='records')\n",
        "X_val = dv.transform(val_dict)\n",
        "y_pred= modeloRL.predict_proba(X_val)[:, 1]"
      ]
    },
    {
      "cell_type": "markdown",
      "id": "4cb24696",
      "metadata": {
        "id": "4cb24696"
      },
      "source": [
        "Un modelo más pequeño para desarrollar."
      ]
    },
    {
      "cell_type": "code",
      "execution_count": null,
      "id": "af7f1448",
      "metadata": {
        "colab": {
          "base_uri": "https://localhost:8080/",
          "height": 75
        },
        "id": "af7f1448",
        "outputId": "dd014be3-46d7-4b4e-8175-7482734d649b"
      },
      "outputs": [
        {
          "output_type": "execute_result",
          "data": {
            "text/plain": [
              "LogisticRegression(random_state=1, solver='liblinear')"
            ],
            "text/html": [
              "<style>#sk-container-id-2 {color: black;background-color: white;}#sk-container-id-2 pre{padding: 0;}#sk-container-id-2 div.sk-toggleable {background-color: white;}#sk-container-id-2 label.sk-toggleable__label {cursor: pointer;display: block;width: 100%;margin-bottom: 0;padding: 0.3em;box-sizing: border-box;text-align: center;}#sk-container-id-2 label.sk-toggleable__label-arrow:before {content: \"▸\";float: left;margin-right: 0.25em;color: #696969;}#sk-container-id-2 label.sk-toggleable__label-arrow:hover:before {color: black;}#sk-container-id-2 div.sk-estimator:hover label.sk-toggleable__label-arrow:before {color: black;}#sk-container-id-2 div.sk-toggleable__content {max-height: 0;max-width: 0;overflow: hidden;text-align: left;background-color: #f0f8ff;}#sk-container-id-2 div.sk-toggleable__content pre {margin: 0.2em;color: black;border-radius: 0.25em;background-color: #f0f8ff;}#sk-container-id-2 input.sk-toggleable__control:checked~div.sk-toggleable__content {max-height: 200px;max-width: 100%;overflow: auto;}#sk-container-id-2 input.sk-toggleable__control:checked~label.sk-toggleable__label-arrow:before {content: \"▾\";}#sk-container-id-2 div.sk-estimator input.sk-toggleable__control:checked~label.sk-toggleable__label {background-color: #d4ebff;}#sk-container-id-2 div.sk-label input.sk-toggleable__control:checked~label.sk-toggleable__label {background-color: #d4ebff;}#sk-container-id-2 input.sk-hidden--visually {border: 0;clip: rect(1px 1px 1px 1px);clip: rect(1px, 1px, 1px, 1px);height: 1px;margin: -1px;overflow: hidden;padding: 0;position: absolute;width: 1px;}#sk-container-id-2 div.sk-estimator {font-family: monospace;background-color: #f0f8ff;border: 1px dotted black;border-radius: 0.25em;box-sizing: border-box;margin-bottom: 0.5em;}#sk-container-id-2 div.sk-estimator:hover {background-color: #d4ebff;}#sk-container-id-2 div.sk-parallel-item::after {content: \"\";width: 100%;border-bottom: 1px solid gray;flex-grow: 1;}#sk-container-id-2 div.sk-label:hover label.sk-toggleable__label {background-color: #d4ebff;}#sk-container-id-2 div.sk-serial::before {content: \"\";position: absolute;border-left: 1px solid gray;box-sizing: border-box;top: 0;bottom: 0;left: 50%;z-index: 0;}#sk-container-id-2 div.sk-serial {display: flex;flex-direction: column;align-items: center;background-color: white;padding-right: 0.2em;padding-left: 0.2em;position: relative;}#sk-container-id-2 div.sk-item {position: relative;z-index: 1;}#sk-container-id-2 div.sk-parallel {display: flex;align-items: stretch;justify-content: center;background-color: white;position: relative;}#sk-container-id-2 div.sk-item::before, #sk-container-id-2 div.sk-parallel-item::before {content: \"\";position: absolute;border-left: 1px solid gray;box-sizing: border-box;top: 0;bottom: 0;left: 50%;z-index: -1;}#sk-container-id-2 div.sk-parallel-item {display: flex;flex-direction: column;z-index: 1;position: relative;background-color: white;}#sk-container-id-2 div.sk-parallel-item:first-child::after {align-self: flex-end;width: 50%;}#sk-container-id-2 div.sk-parallel-item:last-child::after {align-self: flex-start;width: 50%;}#sk-container-id-2 div.sk-parallel-item:only-child::after {width: 0;}#sk-container-id-2 div.sk-dashed-wrapped {border: 1px dashed gray;margin: 0 0.4em 0.5em 0.4em;box-sizing: border-box;padding-bottom: 0.4em;background-color: white;}#sk-container-id-2 div.sk-label label {font-family: monospace;font-weight: bold;display: inline-block;line-height: 1.2em;}#sk-container-id-2 div.sk-label-container {text-align: center;}#sk-container-id-2 div.sk-container {/* jupyter's `normalize.less` sets `[hidden] { display: none; }` but bootstrap.min.css set `[hidden] { display: none !important; }` so we also need the `!important` here to be able to override the default hidden behavior on the sphinx rendered scikit-learn.org. See: https://github.com/scikit-learn/scikit-learn/issues/21755 */display: inline-block !important;position: relative;}#sk-container-id-2 div.sk-text-repr-fallback {display: none;}</style><div id=\"sk-container-id-2\" class=\"sk-top-container\"><div class=\"sk-text-repr-fallback\"><pre>LogisticRegression(random_state=1, solver=&#x27;liblinear&#x27;)</pre><b>In a Jupyter environment, please rerun this cell to show the HTML representation or trust the notebook. <br />On GitHub, the HTML representation is unable to render, please try loading this page with nbviewer.org.</b></div><div class=\"sk-container\" hidden><div class=\"sk-item\"><div class=\"sk-estimator sk-toggleable\"><input class=\"sk-toggleable__control sk-hidden--visually\" id=\"sk-estimator-id-2\" type=\"checkbox\" checked><label for=\"sk-estimator-id-2\" class=\"sk-toggleable__label sk-toggleable__label-arrow\">LogisticRegression</label><div class=\"sk-toggleable__content\"><pre>LogisticRegression(random_state=1, solver=&#x27;liblinear&#x27;)</pre></div></div></div></div></div>"
            ]
          },
          "metadata": {},
          "execution_count": 9
        }
      ],
      "source": [
        "subconjunto = ['contract', 'tenure', 'totalcharges']\n",
        "train_dict_sub = df_train[subconjunto].to_dict(orient='records')\n",
        "dv_sub = DictVectorizer(sparse=False)\n",
        "dv_sub.fit(train_dict_sub)\n",
        "\n",
        "X_sub_train = dv_sub.transform(train_dict_sub)\n",
        "\n",
        "submodeloRL = LogisticRegression(solver='liblinear', random_state=1)\n",
        "submodeloRL.fit(X_sub_train, y_train)"
      ]
    },
    {
      "cell_type": "code",
      "execution_count": null,
      "id": "e9e49263",
      "metadata": {
        "id": "e9e49263"
      },
      "outputs": [],
      "source": [
        "sub_val_dict = df_val[subconjunto].to_dict(orient='records')\n",
        "X_sub_val = dv_sub.transform(sub_val_dict)\n",
        "\n",
        "sub_y_pred = submodeloRL.predict_proba(X_sub_val)[:, 1]"
      ]
    },
    {
      "cell_type": "markdown",
      "id": "a0a6e052",
      "metadata": {
        "id": "a0a6e052"
      },
      "source": [
        "#### Exactitud\n",
        "\n",
        "Exactitud para el modelo completo."
      ]
    },
    {
      "cell_type": "code",
      "execution_count": null,
      "id": "7fbcba23",
      "metadata": {
        "colab": {
          "base_uri": "https://localhost:8080/"
        },
        "id": "7fbcba23",
        "outputId": "e1606f33-7232-44b3-a804-3509ee83dd54"
      },
      "outputs": [
        {
          "output_type": "execute_result",
          "data": {
            "text/plain": [
              "0.8016129032258065"
            ]
          },
          "metadata": {},
          "execution_count": 15
        }
      ],
      "source": [
        "y_pred = modeloRL.predict_proba(X_val)[:, 1]\n",
        "churn = y_pred >= 0.5\n",
        "(churn == y_val).mean()"
      ]
    },
    {
      "cell_type": "code",
      "execution_count": null,
      "id": "3d07abae",
      "metadata": {
        "id": "3d07abae"
      },
      "outputs": [],
      "source": [
        "from sklearn.metrics import accuracy_score"
      ]
    },
    {
      "cell_type": "code",
      "execution_count": null,
      "id": "6606fa0e",
      "metadata": {
        "colab": {
          "base_uri": "https://localhost:8080/"
        },
        "id": "6606fa0e",
        "outputId": "12a121f6-f777-4a68-ca77-c942f4263e7d"
      },
      "outputs": [
        {
          "output_type": "execute_result",
          "data": {
            "text/plain": [
              "0.8016129032258065"
            ]
          },
          "metadata": {},
          "execution_count": 13
        }
      ],
      "source": [
        "accuracy_score(y_val, y_pred >= 0.5)"
      ]
    },
    {
      "cell_type": "markdown",
      "id": "27640fc7",
      "metadata": {
        "id": "27640fc7"
      },
      "source": [
        "Exactitud para el modelo más pequeño"
      ]
    },
    {
      "cell_type": "code",
      "execution_count": null,
      "id": "f636f2bf",
      "metadata": {
        "id": "f636f2bf"
      },
      "outputs": [],
      "source": [
        "#val_dict_sub = df_val[subconjunto].to_dict(orient='records')\n",
        "#X_sub_val = dv_sub.transform(val_dict_sub)\n",
        "#sub_y_pred= submodeloRL.predict_proba(X_sub_val)[:, 1]\n",
        "#sub_churn = sub_y_pred >= 0.5\n",
        "#accuracy_score(y_val, sub_churn)"
      ]
    },
    {
      "cell_type": "code",
      "execution_count": null,
      "id": "efa219dc",
      "metadata": {
        "colab": {
          "base_uri": "https://localhost:8080/"
        },
        "id": "efa219dc",
        "outputId": "7527a015-2cfb-43fa-a298-224373924238"
      },
      "outputs": [
        {
          "output_type": "execute_result",
          "data": {
            "text/plain": [
              "array([0. , 0.1, 0.2, 0.3, 0.4, 0.5, 0.6, 0.7, 0.8, 0.9, 1. ])"
            ]
          },
          "metadata": {},
          "execution_count": 14
        }
      ],
      "source": [
        "umbrales = np.linspace(0, 1, 11)\n",
        "umbrales"
      ]
    },
    {
      "cell_type": "code",
      "execution_count": null,
      "id": "7660fd63",
      "metadata": {
        "id": "7660fd63"
      },
      "outputs": [],
      "source": [
        "umbrales = np.linspace(0, 1, 21)\n",
        "\n",
        "exactitudes = []\n",
        "\n",
        "for t in umbrales:\n",
        "    acc = accuracy_score(y_val, y_pred >= t)\n",
        "    exactitudes.append(acc)\n",
        "    print('%0.2f %0.3f' % (t, acc))"
      ]
    },
    {
      "cell_type": "code",
      "source": [],
      "metadata": {
        "id": "YuSIEQGrQNxK"
      },
      "id": "YuSIEQGrQNxK",
      "execution_count": null,
      "outputs": []
    },
    {
      "cell_type": "markdown",
      "source": [
        "Repetimos el mismo proceso anterior, pero en ugar de solo de imprimi los puntajes de exactitud, primero colocamos los"
      ],
      "metadata": {
        "id": "jcnKg2JTRAUp"
      },
      "id": "jcnKg2JTRAUp"
    },
    {
      "cell_type": "code",
      "source": [
        "umbrales=np.linspace(0,1,11)\n",
        "for t in umbrales:\n",
        "  churn=y_pred>=t\n",
        "  acc=accuracy_score(y_val, churn)\n",
        "  print('%0.2f  %0.3f' % (t, acc))"
      ],
      "metadata": {
        "colab": {
          "base_uri": "https://localhost:8080/"
        },
        "id": "wvblNkfgQN39",
        "outputId": "671bd801-9e4d-4abb-c5b1-8f5e8a17a836"
      },
      "id": "wvblNkfgQN39",
      "execution_count": null,
      "outputs": [
        {
          "output_type": "stream",
          "name": "stdout",
          "text": [
            "0.00  0.261\n",
            "0.10  0.595\n",
            "0.20  0.690\n",
            "0.30  0.755\n",
            "0.40  0.782\n",
            "0.50  0.802\n",
            "0.60  0.790\n",
            "0.70  0.774\n",
            "0.80  0.742\n",
            "0.90  0.739\n",
            "1.00  0.739\n"
          ]
        }
      ]
    },
    {
      "cell_type": "code",
      "source": [
        "umbrales = np.linspace(0, 1, 11)\n",
        "\n",
        "exactitudes = []\n",
        "\n",
        "for t in umbrales:\n",
        "    acc = accuracy_score(y_val, y_pred >= t)\n",
        "    exactitudes.append(acc)\n",
        "    print('%0.2f %0.3f' % (t, acc))"
      ],
      "metadata": {
        "colab": {
          "base_uri": "https://localhost:8080/"
        },
        "id": "QZwYHm3TQJQo",
        "outputId": "c00a0bfe-cf83-4020-e159-6d365f17bb53"
      },
      "id": "QZwYHm3TQJQo",
      "execution_count": null,
      "outputs": [
        {
          "output_type": "stream",
          "name": "stdout",
          "text": [
            "0.00 0.261\n",
            "0.10 0.595\n",
            "0.20 0.690\n",
            "0.30 0.755\n",
            "0.40 0.782\n",
            "0.50 0.802\n",
            "0.60 0.790\n",
            "0.70 0.774\n",
            "0.80 0.742\n",
            "0.90 0.739\n",
            "1.00 0.739\n"
          ]
        }
      ]
    },
    {
      "cell_type": "code",
      "execution_count": null,
      "id": "d7979267",
      "metadata": {
        "colab": {
          "base_uri": "https://localhost:8080/",
          "height": 410
        },
        "id": "d7979267",
        "outputId": "b558dce3-7030-42f8-a86e-282d6f332e98"
      },
      "outputs": [
        {
          "output_type": "display_data",
          "data": {
            "text/plain": [
              "<Figure size 600x400 with 1 Axes>"
            ],
            "image/png": "[encoded data removed]"
          },
          "metadata": {}
        }
      ],
      "source": [
        "plt.figure(figsize=(6, 4))\n",
        "\n",
        "plt.plot(umbrales,exactitudes, color='black')\n",
        "\n",
        "plt.title('Umbral vs Exactitud')\n",
        "plt.xlabel('Umbral')\n",
        "plt.ylabel('Exactitud')\n",
        "\n",
        "plt.xticks(np.linspace(0, 1, 11))\n",
        "\n",
        "plt.show()"
      ]
    },
    {
      "cell_type": "code",
      "execution_count": null,
      "id": "7c906bcd",
      "metadata": {
        "colab": {
          "base_uri": "https://localhost:8080/"
        },
        "id": "7c906bcd",
        "outputId": "95dd8067-8e0e-4e16-f0e7-039c8b83f0e0"
      },
      "outputs": [
        {
          "output_type": "execute_result",
          "data": {
            "text/plain": [
              "0.7672043010752688"
            ]
          },
          "metadata": {},
          "execution_count": 21
        }
      ],
      "source": [
        "sub_churn = sub_y_pred >= 0.5\n",
        "(sub_churn == y_val).mean()"
      ]
    },
    {
      "cell_type": "code",
      "execution_count": null,
      "id": "e84ba4cf",
      "metadata": {
        "colab": {
          "base_uri": "https://localhost:8080/"
        },
        "id": "e84ba4cf",
        "outputId": "62a72dde-f5a6-4cd6-94fd-761103be18c7"
      },
      "outputs": [
        {
          "output_type": "execute_result",
          "data": {
            "text/plain": [
              "0.7672043010752688"
            ]
          },
          "metadata": {},
          "execution_count": 22
        }
      ],
      "source": [
        "accuracy_score(y_val, sub_churn)"
      ]
    },
    {
      "cell_type": "markdown",
      "id": "007193c9",
      "metadata": {
        "id": "007193c9"
      },
      "source": [
        "Exactitud para un baseline inicial"
      ]
    },
    {
      "cell_type": "code",
      "execution_count": null,
      "id": "babe93fe",
      "metadata": {
        "colab": {
          "base_uri": "https://localhost:8080/"
        },
        "id": "babe93fe",
        "outputId": "de50ee52-1c36-4786-a889-5ae4b19164f9"
      },
      "outputs": [
        {
          "output_type": "execute_result",
          "data": {
            "text/plain": [
              "array([False, False, False, ..., False, False, False])"
            ]
          },
          "metadata": {},
          "execution_count": 23
        }
      ],
      "source": [
        "size_val = len(y_val)\n",
        "baseline = np.repeat(False, size_val)\n",
        "baseline"
      ]
    },
    {
      "cell_type": "markdown",
      "id": "a4c745dd",
      "metadata": {
        "id": "a4c745dd"
      },
      "source": [
        "Ahora podemos verificar la exactitud de esta predicción del baseline usando el mismo código que usamos anteriormente:\n"
      ]
    },
    {
      "cell_type": "code",
      "execution_count": null,
      "id": "3a7b5387",
      "metadata": {
        "id": "3a7b5387"
      },
      "outputs": [],
      "source": [
        "accuracy_score(baseline, y_val)"
      ]
    },
    {
      "cell_type": "markdown",
      "id": "8ea8e2f4",
      "metadata": {
        "id": "8ea8e2f4"
      },
      "source": [
        "#### Tabla de confusión"
      ]
    },
    {
      "cell_type": "code",
      "execution_count": null,
      "id": "5b24edee",
      "metadata": {
        "id": "5b24edee"
      },
      "outputs": [],
      "source": [
        "verdadero_positivo = ((y_pred >= 0.5) & (y_val == 1)).sum()\n",
        "falso_positivo = ((y_pred >= 0.5) & (y_val == 0)).sum()\n",
        "falso_negativo = ((y_pred < 0.5) & (y_val == 1)).sum()\n",
        "verdadero_negativo = ((y_pred < 0.5) & (y_val == 0)).sum()"
      ]
    },
    {
      "cell_type": "code",
      "execution_count": null,
      "id": "7d64c870",
      "metadata": {
        "colab": {
          "base_uri": "https://localhost:8080/"
        },
        "id": "7d64c870",
        "outputId": "095739e2-913f-4142-ab0c-06c8d440ab60"
      },
      "outputs": [
        {
          "output_type": "execute_result",
          "data": {
            "text/plain": [
              "array([[1202,  172],\n",
              "       [ 197,  289]])"
            ]
          },
          "metadata": {},
          "execution_count": 26
        }
      ],
      "source": [
        "tabla_confusion = np.array(\n",
        "     # predict neg    pos\n",
        "    [[verdadero_negativo, falso_positivo], # actual neg\n",
        "     [falso_negativo, verdadero_positivo]]) # actual pos\n",
        "\n",
        "tabla_confusion"
      ]
    },
    {
      "cell_type": "markdown",
      "source": [
        "La tabla de confusión muestra el número de verdaderos positivos (TP), verdaderos negativos (TN), falsos positivos (FP) y falsos negativos\n",
        "\n",
        "---\n",
        "\n",
        "(FN) que el modelo ha predicho. En tu ejemplo, la tabla de confusión se ve así:\n",
        "\n",
        "---\n",
        "\n",
        "\n",
        "        **Predicción Negativa\tPredicción Positiva**\n",
        "**Negativo Verdadero\t1202           \t172**\n",
        "**Positivo Verdadero\t197\t            289**\n",
        "\n",
        "\n",
        "---\n",
        "\n",
        "Esto significa que el modelo ha predicho correctamente 1202 verdaderos negativos y 289 verdaderos positivos. Sin embargo, también ha predicho incorrectamente 172 falsos positivos y 197 falsos negativos."
      ],
      "metadata": {
        "id": "qDy7BNH3Ukaj"
      },
      "id": "qDy7BNH3Ukaj"
    },
    {
      "cell_type": "markdown",
      "source": [
        "La exactitud es una medida de rendimiento que se calcula como el número total de predicciones correctas dividido por el número total de predicciones. En el caso de una tabla de confusión binaria, se calcula como (verdaderos positivos + verdaderos negativos) / (verdaderos positivos + verdaderos negativos + falsos positivos + falsos negativos).\n",
        "\n",
        "En tu ejemplo, la exactitud sería (1202 + 289) / (1202 + 289 + 172 + 197) = 0.819, o aproximadamente el 81.9%."
      ],
      "metadata": {
        "id": "iLSjlc8CU61-"
      },
      "id": "iLSjlc8CU61-"
    },
    {
      "cell_type": "code",
      "execution_count": null,
      "id": "d9105581",
      "metadata": {
        "colab": {
          "base_uri": "https://localhost:8080/"
        },
        "id": "d9105581",
        "outputId": "b9f785f5-5552-4044-ec89-c01fa98486dd"
      },
      "outputs": [
        {
          "output_type": "execute_result",
          "data": {
            "text/plain": [
              "array([[0.63924731, 0.09946237],\n",
              "       [0.13333333, 0.12795699]])"
            ]
          },
          "metadata": {},
          "execution_count": 39
        }
      ],
      "source": [
        "tabla_confusion / tabla_confusion.sum()"
      ]
    },
    {
      "cell_type": "markdown",
      "id": "f85a2b66",
      "metadata": {
        "id": "f85a2b66"
      },
      "source": [
        "Tabla de confusión para el submodelo propuesto."
      ]
    },
    {
      "cell_type": "code",
      "execution_count": null,
      "id": "3f6668e5",
      "metadata": {
        "id": "3f6668e5"
      },
      "outputs": [],
      "source": [
        "verdadero_positivo = ((sub_y_pred >= 0.5) & (y_val == 1)).sum()\n",
        "falso_positivo = ((sub_y_pred >= 0.5) & (y_val == 0)).sum()\n",
        "falso_negativo = ((sub_y_pred < 0.5) & (y_val == 1)).sum()\n",
        "verdadero_negativo = ((sub_y_pred < 0.5) & (y_val == 0)).sum()"
      ]
    },
    {
      "cell_type": "code",
      "source": [
        "precision = verdadero_positivo / (verdadero_positivo + falso_positivo)\n",
        "exhaustividad = verdadero_positivo / (verdadero_positivo + falso_negativo)\n",
        "precision, exhaustividad"
      ],
      "metadata": {
        "colab": {
          "base_uri": "https://localhost:8080/"
        },
        "id": "8Mfizh6oWECv",
        "outputId": "1b67f9ee-2dd0-427e-8f7c-999d53499e18"
      },
      "id": "8Mfizh6oWECv",
      "execution_count": null,
      "outputs": [
        {
          "output_type": "execute_result",
          "data": {
            "text/plain": [
              "(0.5626477541371159, 0.4897119341563786)"
            ]
          },
          "metadata": {},
          "execution_count": 42
        }
      ]
    },
    {
      "cell_type": "code",
      "execution_count": null,
      "id": "9f9fa733",
      "metadata": {
        "colab": {
          "base_uri": "https://localhost:8080/"
        },
        "id": "9f9fa733",
        "outputId": "aca56885-332a-4d2b-9380-a0c23ee077e0"
      },
      "outputs": [
        {
          "output_type": "execute_result",
          "data": {
            "text/plain": [
              "array([[1189,  185],\n",
              "       [ 248,  238]])"
            ]
          },
          "metadata": {},
          "execution_count": 29
        }
      ],
      "source": [
        " #tabla_confusion = np.array(\n",
        "     # predict neg    pos\n",
        "   #  [[verdadero_negativo, falso_positivo], # actual neg\n",
        "   #   [falso_negativo, verdadero_positivo]]) # actual pos\n",
        "\n",
        " #tabla_confusion"
      ]
    },
    {
      "cell_type": "code",
      "execution_count": null,
      "id": "0d73820a",
      "metadata": {
        "colab": {
          "base_uri": "https://localhost:8080/"
        },
        "id": "0d73820a",
        "outputId": "7d95f0f4-5e1c-4aaa-a06a-8716f0ef809e"
      },
      "outputs": [
        {
          "output_type": "execute_result",
          "data": {
            "text/plain": [
              "array([[0.63924731, 0.09946237],\n",
              "       [0.13333333, 0.12795699]])"
            ]
          },
          "metadata": {},
          "execution_count": 30
        }
      ],
      "source": [
        " #tabla_confusion / tabla_confusion.sum()"
      ]
    },
    {
      "cell_type": "markdown",
      "id": "fb0de2c1",
      "metadata": {
        "id": "fb0de2c1"
      },
      "source": [
        "#### Precisión y exhaustividad"
      ]
    },
    {
      "cell_type": "code",
      "execution_count": null,
      "id": "8edb78b4",
      "metadata": {
        "colab": {
          "base_uri": "https://localhost:8080/"
        },
        "id": "8edb78b4",
        "outputId": "256ba541-43f8-4f0f-f8f0-934ae248e429"
      },
      "outputs": [
        {
          "output_type": "execute_result",
          "data": {
            "text/plain": [
              "(0.5626477541371159, 0.4897119341563786)"
            ]
          },
          "metadata": {},
          "execution_count": 40
        }
      ],
      "source": [
        "precision = verdadero_positivo / (verdadero_positivo + falso_positivo)\n",
        "exhaustividad =  verdadero_positivo / (verdadero_positivo + falso_negativo)\n",
        "precision, exhaustividad"
      ]
    },
    {
      "cell_type": "code",
      "execution_count": null,
      "id": "8328c80c",
      "metadata": {
        "colab": {
          "base_uri": "https://localhost:8080/"
        },
        "id": "8328c80c",
        "outputId": "870c57c0-cb7a-40d4-d61b-b7374aa9c17e"
      },
      "outputs": [
        {
          "output_type": "execute_result",
          "data": {
            "text/plain": [
              "array([[0.63924731, 0.09946237],\n",
              "       [0.13333333, 0.12795699]])"
            ]
          },
          "metadata": {},
          "execution_count": 44
        }
      ],
      "source": [
        "tabla_confusion / tabla_confusion.sum()"
      ]
    },
    {
      "cell_type": "code",
      "execution_count": null,
      "id": "e84e5a0c",
      "metadata": {
        "colab": {
          "base_uri": "https://localhost:8080/"
        },
        "id": "e84e5a0c",
        "outputId": "5f800c46-710a-447c-c623-ac3b3260efc0"
      },
      "outputs": [
        {
          "output_type": "execute_result",
          "data": {
            "text/plain": [
              "(0.5626477541371159, 0.4897119341563786)"
            ]
          },
          "metadata": {},
          "execution_count": 43
        }
      ],
      "source": [
        "precision = verdadero_positivo / (verdadero_positivo + falso_positivo)\n",
        "exhaustividad = verdadero_positivo / (verdadero_positivo + falso_negativo)\n",
        "precision, exhaustividad"
      ]
    },
    {
      "cell_type": "markdown",
      "id": "06133513",
      "metadata": {
        "id": "06133513"
      },
      "source": [
        "#### ROC y AUC\n",
        "\n",
        "TPR y FPR"
      ]
    },
    {
      "cell_type": "code",
      "execution_count": null,
      "id": "90ba799e",
      "metadata": {
        "id": "90ba799e"
      },
      "outputs": [],
      "source": [
        "puntuaciones = []\n",
        "\n",
        "umbrales = np.linspace(0, 1, 101)\n",
        "\n",
        "for t in umbrales: #B\n",
        "    tp = ((y_pred >= t) & (y_val == 1)).sum()\n",
        "    fp = ((y_pred >= t) & (y_val == 0)).sum()\n",
        "    fn = ((y_pred < t) & (y_val == 1)).sum()\n",
        "    tn = ((y_pred < t) & (y_val == 0)).sum()\n",
        "    puntuaciones.append((t, tp, fp, fn, tn))\n",
        "\n",
        "df_puntuaciones = pd.DataFrame(puntuaciones)\n",
        "df_puntuaciones.columns = ['umbral', 'tp', 'fp', 'fn', 'tn']"
      ]
    },
    {
      "cell_type": "code",
      "execution_count": null,
      "id": "dcbae18f",
      "metadata": {
        "colab": {
          "base_uri": "https://localhost:8080/",
          "height": 394
        },
        "id": "dcbae18f",
        "outputId": "7a8716b6-522d-4bac-cb3a-81b4fe11e64f"
      },
      "outputs": [
        {
          "output_type": "execute_result",
          "data": {
            "text/plain": [
              "     umbral   tp    fp   fn    tn\n",
              "0       0.0  486  1374    0     0\n",
              "10      0.1  458   726   28   648\n",
              "20      0.2  421   512   65   862\n",
              "30      0.3  380   350  106  1024\n",
              "40      0.4  337   257  149  1117\n",
              "50      0.5  289   172  197  1202\n",
              "60      0.6  200   105  286  1269\n",
              "70      0.7   99    34  387  1340\n",
              "80      0.8    7     1  479  1373\n",
              "90      0.9    0     0  486  1374\n",
              "100     1.0    0     0  486  1374"
            ],
            "text/html": [
              "\n",
              "  <div id=\"df-b714e65c-6e79-4a1d-933d-7a1d4d39a4c6\">\n",
              "    <div class=\"colab-df-container\">\n",
              "      <div>\n",
              "<style scoped>\n",
              "    .dataframe tbody tr th:only-of-type {\n",
              "        vertical-align: middle;\n",
              "    }\n",
              "\n",
              "    .dataframe tbody tr th {\n",
              "        vertical-align: top;\n",
              "    }\n",
              "\n",
              "    .dataframe thead th {\n",
              "        text-align: right;\n",
              "    }\n",
              "</style>\n",
              "<table border=\"1\" class=\"dataframe\">\n",
              "  <thead>\n",
              "    <tr style=\"text-align: right;\">\n",
              "      <th></th>\n",
              "      <th>umbral</th>\n",
              "      <th>tp</th>\n",
              "      <th>fp</th>\n",
              "      <th>fn</th>\n",
              "      <th>tn</th>\n",
              "    </tr>\n",
              "  </thead>\n",
              "  <tbody>\n",
              "    <tr>\n",
              "      <th>0</th>\n",
              "      <td>0.0</td>\n",
              "      <td>486</td>\n",
              "      <td>1374</td>\n",
              "      <td>0</td>\n",
              "      <td>0</td>\n",
              "    </tr>\n",
              "    <tr>\n",
              "      <th>10</th>\n",
              "      <td>0.1</td>\n",
              "      <td>458</td>\n",
              "      <td>726</td>\n",
              "      <td>28</td>\n",
              "      <td>648</td>\n",
              "    </tr>\n",
              "    <tr>\n",
              "      <th>20</th>\n",
              "      <td>0.2</td>\n",
              "      <td>421</td>\n",
              "      <td>512</td>\n",
              "      <td>65</td>\n",
              "      <td>862</td>\n",
              "    </tr>\n",
              "    <tr>\n",
              "      <th>30</th>\n",
              "      <td>0.3</td>\n",
              "      <td>380</td>\n",
              "      <td>350</td>\n",
              "      <td>106</td>\n",
              "      <td>1024</td>\n",
              "    </tr>\n",
              "    <tr>\n",
              "      <th>40</th>\n",
              "      <td>0.4</td>\n",
              "      <td>337</td>\n",
              "      <td>257</td>\n",
              "      <td>149</td>\n",
              "      <td>1117</td>\n",
              "    </tr>\n",
              "    <tr>\n",
              "      <th>50</th>\n",
              "      <td>0.5</td>\n",
              "      <td>289</td>\n",
              "      <td>172</td>\n",
              "      <td>197</td>\n",
              "      <td>1202</td>\n",
              "    </tr>\n",
              "    <tr>\n",
              "      <th>60</th>\n",
              "      <td>0.6</td>\n",
              "      <td>200</td>\n",
              "      <td>105</td>\n",
              "      <td>286</td>\n",
              "      <td>1269</td>\n",
              "    </tr>\n",
              "    <tr>\n",
              "      <th>70</th>\n",
              "      <td>0.7</td>\n",
              "      <td>99</td>\n",
              "      <td>34</td>\n",
              "      <td>387</td>\n",
              "      <td>1340</td>\n",
              "    </tr>\n",
              "    <tr>\n",
              "      <th>80</th>\n",
              "      <td>0.8</td>\n",
              "      <td>7</td>\n",
              "      <td>1</td>\n",
              "      <td>479</td>\n",
              "      <td>1373</td>\n",
              "    </tr>\n",
              "    <tr>\n",
              "      <th>90</th>\n",
              "      <td>0.9</td>\n",
              "      <td>0</td>\n",
              "      <td>0</td>\n",
              "      <td>486</td>\n",
              "      <td>1374</td>\n",
              "    </tr>\n",
              "    <tr>\n",
              "      <th>100</th>\n",
              "      <td>1.0</td>\n",
              "      <td>0</td>\n",
              "      <td>0</td>\n",
              "      <td>486</td>\n",
              "      <td>1374</td>\n",
              "    </tr>\n",
              "  </tbody>\n",
              "</table>\n",
              "</div>\n",
              "      <button class=\"colab-df-convert\" onclick=\"convertToInteractive('df-b714e65c-6e79-4a1d-933d-7a1d4d39a4c6')\"\n",
              "              title=\"Convert this dataframe to an interactive table.\"\n",
              "              style=\"display:none;\">\n",
              "        \n",
              "  <svg xmlns=\"http://www.w3.org/2000/svg\" height=\"24px\"viewBox=\"0 0 24 24\"\n",
              "       width=\"24px\">\n",
              "    <path d=\"M0 0h24v24H0V0z\" fill=\"none\"/>\n",
              "    <path d=\"M18.56 5.44l.94 2.06.94-2.06 2.06-.94-2.06-.94-.94-2.06-.94 2.06-2.06.94zm-11 1L8.5 8.5l.94-2.06 2.06-.94-2.06-.94L8.5 2.5l-.94 2.06-2.06.94zm10 10l.94 2.06.94-2.06 2.06-.94-2.06-.94-.94-2.06-.94 2.06-2.06.94z\"/><path d=\"M17.41 7.96l-1.37-1.37c-.4-.4-.92-.59-1.43-.59-.52 0-1.04.2-1.43.59L10.3 9.45l-7.72 7.72c-.78.78-.78 2.05 0 2.83L4 21.41c.39.39.9.59 1.41.59.51 0 1.02-.2 1.41-.59l7.78-7.78 2.81-2.81c.8-.78.8-2.07 0-2.86zM5.41 20L4 18.59l7.72-7.72 1.47 1.35L5.41 20z\"/>\n",
              "  </svg>\n",
              "      </button>\n",
              "      \n",
              "  <style>\n",
              "    .colab-df-container {\n",
              "      display:flex;\n",
              "      flex-wrap:wrap;\n",
              "      gap: 12px;\n",
              "    }\n",
              "\n",
              "    .colab-df-convert {\n",
              "      background-color: #E8F0FE;\n",
              "      border: none;\n",
              "      border-radius: 50%;\n",
              "      cursor: pointer;\n",
              "      display: none;\n",
              "      fill: #1967D2;\n",
              "      height: 32px;\n",
              "      padding: 0 0 0 0;\n",
              "      width: 32px;\n",
              "    }\n",
              "\n",
              "    .colab-df-convert:hover {\n",
              "      background-color: #E2EBFA;\n",
              "      box-shadow: 0px 1px 2px rgba(60, 64, 67, 0.3), 0px 1px 3px 1px rgba(60, 64, 67, 0.15);\n",
              "      fill: #174EA6;\n",
              "    }\n",
              "\n",
              "    [theme=dark] .colab-df-convert {\n",
              "      background-color: #3B4455;\n",
              "      fill: #D2E3FC;\n",
              "    }\n",
              "\n",
              "    [theme=dark] .colab-df-convert:hover {\n",
              "      background-color: #434B5C;\n",
              "      box-shadow: 0px 1px 3px 1px rgba(0, 0, 0, 0.15);\n",
              "      filter: drop-shadow(0px 1px 2px rgba(0, 0, 0, 0.3));\n",
              "      fill: #FFFFFF;\n",
              "    }\n",
              "  </style>\n",
              "\n",
              "      <script>\n",
              "        const buttonEl =\n",
              "          document.querySelector('#df-b714e65c-6e79-4a1d-933d-7a1d4d39a4c6 button.colab-df-convert');\n",
              "        buttonEl.style.display =\n",
              "          google.colab.kernel.accessAllowed ? 'block' : 'none';\n",
              "\n",
              "        async function convertToInteractive(key) {\n",
              "          const element = document.querySelector('#df-b714e65c-6e79-4a1d-933d-7a1d4d39a4c6');\n",
              "          const dataTable =\n",
              "            await google.colab.kernel.invokeFunction('convertToInteractive',\n",
              "                                                     [key], {});\n",
              "          if (!dataTable) return;\n",
              "\n",
              "          const docLinkHtml = 'Like what you see? Visit the ' +\n",
              "            '<a target=\"_blank\" href=https://colab.research.google.com/notebooks/data_table.ipynb>data table notebook</a>'\n",
              "            + ' to learn more about interactive tables.';\n",
              "          element.innerHTML = '';\n",
              "          dataTable['output_type'] = 'display_data';\n",
              "          await google.colab.output.renderOutput(dataTable, element);\n",
              "          const docLink = document.createElement('div');\n",
              "          docLink.innerHTML = docLinkHtml;\n",
              "          element.appendChild(docLink);\n",
              "        }\n",
              "      </script>\n",
              "    </div>\n",
              "  </div>\n",
              "  "
            ]
          },
          "metadata": {},
          "execution_count": 46
        }
      ],
      "source": [
        "df_puntuaciones[::10]"
      ]
    },
    {
      "cell_type": "code",
      "execution_count": null,
      "id": "dedb9fe2",
      "metadata": {
        "id": "dedb9fe2"
      },
      "outputs": [],
      "source": [
        "df_puntuaciones['tpr'] = df_puntuaciones.tp / (df_puntuaciones.tp + df_puntuaciones.fn)\n",
        "df_puntuaciones['fpr'] = df_puntuaciones.fp / (df_puntuaciones.fp + df_puntuaciones.tn)"
      ]
    },
    {
      "cell_type": "code",
      "execution_count": null,
      "id": "cefa5983",
      "metadata": {
        "colab": {
          "base_uri": "https://localhost:8080/",
          "height": 394
        },
        "id": "cefa5983",
        "outputId": "fe24cddc-5422-4aab-835c-197aeb173f24"
      },
      "outputs": [
        {
          "output_type": "execute_result",
          "data": {
            "text/plain": [
              "     umbral   tp    fp   fn    tn       tpr       fpr\n",
              "0       0.0  486  1374    0     0  1.000000  1.000000\n",
              "10      0.1  458   726   28   648  0.942387  0.528384\n",
              "20      0.2  421   512   65   862  0.866255  0.372635\n",
              "30      0.3  380   350  106  1024  0.781893  0.254731\n",
              "40      0.4  337   257  149  1117  0.693416  0.187045\n",
              "50      0.5  289   172  197  1202  0.594650  0.125182\n",
              "60      0.6  200   105  286  1269  0.411523  0.076419\n",
              "70      0.7   99    34  387  1340  0.203704  0.024745\n",
              "80      0.8    7     1  479  1373  0.014403  0.000728\n",
              "90      0.9    0     0  486  1374  0.000000  0.000000\n",
              "100     1.0    0     0  486  1374  0.000000  0.000000"
            ],
            "text/html": [
              "\n",
              "  <div id=\"df-fc8b6cbb-9ca2-4fd9-9484-724e3649fde4\">\n",
              "    <div class=\"colab-df-container\">\n",
              "      <div>\n",
              "<style scoped>\n",
              "    .dataframe tbody tr th:only-of-type {\n",
              "        vertical-align: middle;\n",
              "    }\n",
              "\n",
              "    .dataframe tbody tr th {\n",
              "        vertical-align: top;\n",
              "    }\n",
              "\n",
              "    .dataframe thead th {\n",
              "        text-align: right;\n",
              "    }\n",
              "</style>\n",
              "<table border=\"1\" class=\"dataframe\">\n",
              "  <thead>\n",
              "    <tr style=\"text-align: right;\">\n",
              "      <th></th>\n",
              "      <th>umbral</th>\n",
              "      <th>tp</th>\n",
              "      <th>fp</th>\n",
              "      <th>fn</th>\n",
              "      <th>tn</th>\n",
              "      <th>tpr</th>\n",
              "      <th>fpr</th>\n",
              "    </tr>\n",
              "  </thead>\n",
              "  <tbody>\n",
              "    <tr>\n",
              "      <th>0</th>\n",
              "      <td>0.0</td>\n",
              "      <td>486</td>\n",
              "      <td>1374</td>\n",
              "      <td>0</td>\n",
              "      <td>0</td>\n",
              "      <td>1.000000</td>\n",
              "      <td>1.000000</td>\n",
              "    </tr>\n",
              "    <tr>\n",
              "      <th>10</th>\n",
              "      <td>0.1</td>\n",
              "      <td>458</td>\n",
              "      <td>726</td>\n",
              "      <td>28</td>\n",
              "      <td>648</td>\n",
              "      <td>0.942387</td>\n",
              "      <td>0.528384</td>\n",
              "    </tr>\n",
              "    <tr>\n",
              "      <th>20</th>\n",
              "      <td>0.2</td>\n",
              "      <td>421</td>\n",
              "      <td>512</td>\n",
              "      <td>65</td>\n",
              "      <td>862</td>\n",
              "      <td>0.866255</td>\n",
              "      <td>0.372635</td>\n",
              "    </tr>\n",
              "    <tr>\n",
              "      <th>30</th>\n",
              "      <td>0.3</td>\n",
              "      <td>380</td>\n",
              "      <td>350</td>\n",
              "      <td>106</td>\n",
              "      <td>1024</td>\n",
              "      <td>0.781893</td>\n",
              "      <td>0.254731</td>\n",
              "    </tr>\n",
              "    <tr>\n",
              "      <th>40</th>\n",
              "      <td>0.4</td>\n",
              "      <td>337</td>\n",
              "      <td>257</td>\n",
              "      <td>149</td>\n",
              "      <td>1117</td>\n",
              "      <td>0.693416</td>\n",
              "      <td>0.187045</td>\n",
              "    </tr>\n",
              "    <tr>\n",
              "      <th>50</th>\n",
              "      <td>0.5</td>\n",
              "      <td>289</td>\n",
              "      <td>172</td>\n",
              "      <td>197</td>\n",
              "      <td>1202</td>\n",
              "      <td>0.594650</td>\n",
              "      <td>0.125182</td>\n",
              "    </tr>\n",
              "    <tr>\n",
              "      <th>60</th>\n",
              "      <td>0.6</td>\n",
              "      <td>200</td>\n",
              "      <td>105</td>\n",
              "      <td>286</td>\n",
              "      <td>1269</td>\n",
              "      <td>0.411523</td>\n",
              "      <td>0.076419</td>\n",
              "    </tr>\n",
              "    <tr>\n",
              "      <th>70</th>\n",
              "      <td>0.7</td>\n",
              "      <td>99</td>\n",
              "      <td>34</td>\n",
              "      <td>387</td>\n",
              "      <td>1340</td>\n",
              "      <td>0.203704</td>\n",
              "      <td>0.024745</td>\n",
              "    </tr>\n",
              "    <tr>\n",
              "      <th>80</th>\n",
              "      <td>0.8</td>\n",
              "      <td>7</td>\n",
              "      <td>1</td>\n",
              "      <td>479</td>\n",
              "      <td>1373</td>\n",
              "      <td>0.014403</td>\n",
              "      <td>0.000728</td>\n",
              "    </tr>\n",
              "    <tr>\n",
              "      <th>90</th>\n",
              "      <td>0.9</td>\n",
              "      <td>0</td>\n",
              "      <td>0</td>\n",
              "      <td>486</td>\n",
              "      <td>1374</td>\n",
              "      <td>0.000000</td>\n",
              "      <td>0.000000</td>\n",
              "    </tr>\n",
              "    <tr>\n",
              "      <th>100</th>\n",
              "      <td>1.0</td>\n",
              "      <td>0</td>\n",
              "      <td>0</td>\n",
              "      <td>486</td>\n",
              "      <td>1374</td>\n",
              "      <td>0.000000</td>\n",
              "      <td>0.000000</td>\n",
              "    </tr>\n",
              "  </tbody>\n",
              "</table>\n",
              "</div>\n",
              "      <button class=\"colab-df-convert\" onclick=\"convertToInteractive('df-fc8b6cbb-9ca2-4fd9-9484-724e3649fde4')\"\n",
              "              title=\"Convert this dataframe to an interactive table.\"\n",
              "              style=\"display:none;\">\n",
              "        \n",
              "  <svg xmlns=\"http://www.w3.org/2000/svg\" height=\"24px\"viewBox=\"0 0 24 24\"\n",
              "       width=\"24px\">\n",
              "    <path d=\"M0 0h24v24H0V0z\" fill=\"none\"/>\n",
              "    <path d=\"M18.56 5.44l.94 2.06.94-2.06 2.06-.94-2.06-.94-.94-2.06-.94 2.06-2.06.94zm-11 1L8.5 8.5l.94-2.06 2.06-.94-2.06-.94L8.5 2.5l-.94 2.06-2.06.94zm10 10l.94 2.06.94-2.06 2.06-.94-2.06-.94-.94-2.06-.94 2.06-2.06.94z\"/><path d=\"M17.41 7.96l-1.37-1.37c-.4-.4-.92-.59-1.43-.59-.52 0-1.04.2-1.43.59L10.3 9.45l-7.72 7.72c-.78.78-.78 2.05 0 2.83L4 21.41c.39.39.9.59 1.41.59.51 0 1.02-.2 1.41-.59l7.78-7.78 2.81-2.81c.8-.78.8-2.07 0-2.86zM5.41 20L4 18.59l7.72-7.72 1.47 1.35L5.41 20z\"/>\n",
              "  </svg>\n",
              "      </button>\n",
              "      \n",
              "  <style>\n",
              "    .colab-df-container {\n",
              "      display:flex;\n",
              "      flex-wrap:wrap;\n",
              "      gap: 12px;\n",
              "    }\n",
              "\n",
              "    .colab-df-convert {\n",
              "      background-color: #E8F0FE;\n",
              "      border: none;\n",
              "      border-radius: 50%;\n",
              "      cursor: pointer;\n",
              "      display: none;\n",
              "      fill: #1967D2;\n",
              "      height: 32px;\n",
              "      padding: 0 0 0 0;\n",
              "      width: 32px;\n",
              "    }\n",
              "\n",
              "    .colab-df-convert:hover {\n",
              "      background-color: #E2EBFA;\n",
              "      box-shadow: 0px 1px 2px rgba(60, 64, 67, 0.3), 0px 1px 3px 1px rgba(60, 64, 67, 0.15);\n",
              "      fill: #174EA6;\n",
              "    }\n",
              "\n",
              "    [theme=dark] .colab-df-convert {\n",
              "      background-color: #3B4455;\n",
              "      fill: #D2E3FC;\n",
              "    }\n",
              "\n",
              "    [theme=dark] .colab-df-convert:hover {\n",
              "      background-color: #434B5C;\n",
              "      box-shadow: 0px 1px 3px 1px rgba(0, 0, 0, 0.15);\n",
              "      filter: drop-shadow(0px 1px 2px rgba(0, 0, 0, 0.3));\n",
              "      fill: #FFFFFF;\n",
              "    }\n",
              "  </style>\n",
              "\n",
              "      <script>\n",
              "        const buttonEl =\n",
              "          document.querySelector('#df-fc8b6cbb-9ca2-4fd9-9484-724e3649fde4 button.colab-df-convert');\n",
              "        buttonEl.style.display =\n",
              "          google.colab.kernel.accessAllowed ? 'block' : 'none';\n",
              "\n",
              "        async function convertToInteractive(key) {\n",
              "          const element = document.querySelector('#df-fc8b6cbb-9ca2-4fd9-9484-724e3649fde4');\n",
              "          const dataTable =\n",
              "            await google.colab.kernel.invokeFunction('convertToInteractive',\n",
              "                                                     [key], {});\n",
              "          if (!dataTable) return;\n",
              "\n",
              "          const docLinkHtml = 'Like what you see? Visit the ' +\n",
              "            '<a target=\"_blank\" href=https://colab.research.google.com/notebooks/data_table.ipynb>data table notebook</a>'\n",
              "            + ' to learn more about interactive tables.';\n",
              "          element.innerHTML = '';\n",
              "          dataTable['output_type'] = 'display_data';\n",
              "          await google.colab.output.renderOutput(dataTable, element);\n",
              "          const docLink = document.createElement('div');\n",
              "          docLink.innerHTML = docLinkHtml;\n",
              "          element.appendChild(docLink);\n",
              "        }\n",
              "      </script>\n",
              "    </div>\n",
              "  </div>\n",
              "  "
            ]
          },
          "metadata": {},
          "execution_count": 48
        }
      ],
      "source": [
        "df_puntuaciones[::10]"
      ]
    },
    {
      "cell_type": "code",
      "execution_count": null,
      "id": "cafeaee4",
      "metadata": {
        "colab": {
          "base_uri": "https://localhost:8080/",
          "height": 410
        },
        "id": "cafeaee4",
        "outputId": "7601a0bc-ea26-4d6e-91bd-0f78a8de7f0d"
      },
      "outputs": [
        {
          "output_type": "display_data",
          "data": {
            "text/plain": [
              "<Figure size 600x400 with 1 Axes>"
            ],
            "image/png": "[encoded data removed]"
          },
          "metadata": {}
        }
      ],
      "source": [
        "plt.figure(figsize=(6, 4))\n",
        "\n",
        "plt.plot(df_puntuaciones.umbral, df_puntuaciones.tpr, color='black', linestyle='solid', label='TPR')\n",
        "plt.plot(df_puntuaciones.umbral, df_puntuaciones.fpr, color='black', linestyle='dashed', label='FPR')\n",
        "plt.legend()\n",
        "\n",
        "plt.xticks(np.linspace(0, 1, 11))\n",
        "plt.yticks(np.linspace(0, 1, 11))\n",
        "\n",
        "plt.xlabel('Umbrales')\n",
        "plt.title('TPR y FPR')\n",
        "\n",
        "plt.show()"
      ]
    },
    {
      "cell_type": "markdown",
      "id": "882ed5ab",
      "metadata": {
        "id": "882ed5ab"
      },
      "source": [
        "#### Baseline aleatorio"
      ]
    },
    {
      "cell_type": "code",
      "execution_count": null,
      "id": "3dd83bde",
      "metadata": {
        "id": "3dd83bde"
      },
      "outputs": [],
      "source": [
        "def dataframe_tpr_fpr(y_val, y_pred):\n",
        "    puntuaciones = []\n",
        "\n",
        "    umbrales = np.linspace(0, 1, 101)\n",
        "\n",
        "    for t in umbrales:\n",
        "        tp = ((y_pred >= t) & (y_val == 1)).sum()\n",
        "        fp = ((y_pred >= t) & (y_val == 0)).sum()\n",
        "        fn = ((y_pred < t) & (y_val == 1)).sum()\n",
        "        tn = ((y_pred < t) & (y_val == 0)).sum()\n",
        "\n",
        "        puntuaciones.append((t, tp, fp, fn, tn))\n",
        "\n",
        "    df_puntuaciones = pd.DataFrame(puntuaciones)\n",
        "    df_puntuaciones.columns = ['umbral', 'tp', 'fp', 'fn', 'tn']\n",
        "\n",
        "    df_puntuaciones['tpr'] = df_puntuaciones.tp / (df_puntuaciones.tp + df_puntuaciones.fn)\n",
        "    df_puntuaciones['fpr'] = df_puntuaciones.fp / (df_puntuaciones.fp + df_puntuaciones.tn)\n",
        "\n",
        "    return df_puntuaciones"
      ]
    },
    {
      "cell_type": "code",
      "execution_count": null,
      "id": "5bac77a4",
      "metadata": {
        "colab": {
          "base_uri": "https://localhost:8080/",
          "height": 394
        },
        "id": "5bac77a4",
        "outputId": "c00d08b4-fe01-4762-ca88-c822fefa4e10"
      },
      "outputs": [
        {
          "output_type": "execute_result",
          "data": {
            "text/plain": [
              "     umbral   tp    fp   fn    tn       tpr       fpr\n",
              "0       0.0  486  1374    0     0  1.000000  1.000000\n",
              "10      0.1  440  1236   46   138  0.905350  0.899563\n",
              "20      0.2  392  1101   94   273  0.806584  0.801310\n",
              "30      0.3  339   972  147   402  0.697531  0.707424\n",
              "40      0.4  288   849  198   525  0.592593  0.617904\n",
              "50      0.5  239   723  247   651  0.491770  0.526201\n",
              "60      0.6  193   579  293   795  0.397119  0.421397\n",
              "70      0.7  152   422  334   952  0.312757  0.307132\n",
              "80      0.8   98   302  388  1072  0.201646  0.219796\n",
              "90      0.9   57   147  429  1227  0.117284  0.106987\n",
              "100     1.0    0     0  486  1374  0.000000  0.000000"
            ],
            "text/html": [
              "\n",
              "  <div id=\"df-c6cd8092-ab38-4c37-8e13-3285d15923bc\">\n",
              "    <div class=\"colab-df-container\">\n",
              "      <div>\n",
              "<style scoped>\n",
              "    .dataframe tbody tr th:only-of-type {\n",
              "        vertical-align: middle;\n",
              "    }\n",
              "\n",
              "    .dataframe tbody tr th {\n",
              "        vertical-align: top;\n",
              "    }\n",
              "\n",
              "    .dataframe thead th {\n",
              "        text-align: right;\n",
              "    }\n",
              "</style>\n",
              "<table border=\"1\" class=\"dataframe\">\n",
              "  <thead>\n",
              "    <tr style=\"text-align: right;\">\n",
              "      <th></th>\n",
              "      <th>umbral</th>\n",
              "      <th>tp</th>\n",
              "      <th>fp</th>\n",
              "      <th>fn</th>\n",
              "      <th>tn</th>\n",
              "      <th>tpr</th>\n",
              "      <th>fpr</th>\n",
              "    </tr>\n",
              "  </thead>\n",
              "  <tbody>\n",
              "    <tr>\n",
              "      <th>0</th>\n",
              "      <td>0.0</td>\n",
              "      <td>486</td>\n",
              "      <td>1374</td>\n",
              "      <td>0</td>\n",
              "      <td>0</td>\n",
              "      <td>1.000000</td>\n",
              "      <td>1.000000</td>\n",
              "    </tr>\n",
              "    <tr>\n",
              "      <th>10</th>\n",
              "      <td>0.1</td>\n",
              "      <td>440</td>\n",
              "      <td>1236</td>\n",
              "      <td>46</td>\n",
              "      <td>138</td>\n",
              "      <td>0.905350</td>\n",
              "      <td>0.899563</td>\n",
              "    </tr>\n",
              "    <tr>\n",
              "      <th>20</th>\n",
              "      <td>0.2</td>\n",
              "      <td>392</td>\n",
              "      <td>1101</td>\n",
              "      <td>94</td>\n",
              "      <td>273</td>\n",
              "      <td>0.806584</td>\n",
              "      <td>0.801310</td>\n",
              "    </tr>\n",
              "    <tr>\n",
              "      <th>30</th>\n",
              "      <td>0.3</td>\n",
              "      <td>339</td>\n",
              "      <td>972</td>\n",
              "      <td>147</td>\n",
              "      <td>402</td>\n",
              "      <td>0.697531</td>\n",
              "      <td>0.707424</td>\n",
              "    </tr>\n",
              "    <tr>\n",
              "      <th>40</th>\n",
              "      <td>0.4</td>\n",
              "      <td>288</td>\n",
              "      <td>849</td>\n",
              "      <td>198</td>\n",
              "      <td>525</td>\n",
              "      <td>0.592593</td>\n",
              "      <td>0.617904</td>\n",
              "    </tr>\n",
              "    <tr>\n",
              "      <th>50</th>\n",
              "      <td>0.5</td>\n",
              "      <td>239</td>\n",
              "      <td>723</td>\n",
              "      <td>247</td>\n",
              "      <td>651</td>\n",
              "      <td>0.491770</td>\n",
              "      <td>0.526201</td>\n",
              "    </tr>\n",
              "    <tr>\n",
              "      <th>60</th>\n",
              "      <td>0.6</td>\n",
              "      <td>193</td>\n",
              "      <td>579</td>\n",
              "      <td>293</td>\n",
              "      <td>795</td>\n",
              "      <td>0.397119</td>\n",
              "      <td>0.421397</td>\n",
              "    </tr>\n",
              "    <tr>\n",
              "      <th>70</th>\n",
              "      <td>0.7</td>\n",
              "      <td>152</td>\n",
              "      <td>422</td>\n",
              "      <td>334</td>\n",
              "      <td>952</td>\n",
              "      <td>0.312757</td>\n",
              "      <td>0.307132</td>\n",
              "    </tr>\n",
              "    <tr>\n",
              "      <th>80</th>\n",
              "      <td>0.8</td>\n",
              "      <td>98</td>\n",
              "      <td>302</td>\n",
              "      <td>388</td>\n",
              "      <td>1072</td>\n",
              "      <td>0.201646</td>\n",
              "      <td>0.219796</td>\n",
              "    </tr>\n",
              "    <tr>\n",
              "      <th>90</th>\n",
              "      <td>0.9</td>\n",
              "      <td>57</td>\n",
              "      <td>147</td>\n",
              "      <td>429</td>\n",
              "      <td>1227</td>\n",
              "      <td>0.117284</td>\n",
              "      <td>0.106987</td>\n",
              "    </tr>\n",
              "    <tr>\n",
              "      <th>100</th>\n",
              "      <td>1.0</td>\n",
              "      <td>0</td>\n",
              "      <td>0</td>\n",
              "      <td>486</td>\n",
              "      <td>1374</td>\n",
              "      <td>0.000000</td>\n",
              "      <td>0.000000</td>\n",
              "    </tr>\n",
              "  </tbody>\n",
              "</table>\n",
              "</div>\n",
              "      <button class=\"colab-df-convert\" onclick=\"convertToInteractive('df-c6cd8092-ab38-4c37-8e13-3285d15923bc')\"\n",
              "              title=\"Convert this dataframe to an interactive table.\"\n",
              "              style=\"display:none;\">\n",
              "        \n",
              "  <svg xmlns=\"http://www.w3.org/2000/svg\" height=\"24px\"viewBox=\"0 0 24 24\"\n",
              "       width=\"24px\">\n",
              "    <path d=\"M0 0h24v24H0V0z\" fill=\"none\"/>\n",
              "    <path d=\"M18.56 5.44l.94 2.06.94-2.06 2.06-.94-2.06-.94-.94-2.06-.94 2.06-2.06.94zm-11 1L8.5 8.5l.94-2.06 2.06-.94-2.06-.94L8.5 2.5l-.94 2.06-2.06.94zm10 10l.94 2.06.94-2.06 2.06-.94-2.06-.94-.94-2.06-.94 2.06-2.06.94z\"/><path d=\"M17.41 7.96l-1.37-1.37c-.4-.4-.92-.59-1.43-.59-.52 0-1.04.2-1.43.59L10.3 9.45l-7.72 7.72c-.78.78-.78 2.05 0 2.83L4 21.41c.39.39.9.59 1.41.59.51 0 1.02-.2 1.41-.59l7.78-7.78 2.81-2.81c.8-.78.8-2.07 0-2.86zM5.41 20L4 18.59l7.72-7.72 1.47 1.35L5.41 20z\"/>\n",
              "  </svg>\n",
              "      </button>\n",
              "      \n",
              "  <style>\n",
              "    .colab-df-container {\n",
              "      display:flex;\n",
              "      flex-wrap:wrap;\n",
              "      gap: 12px;\n",
              "    }\n",
              "\n",
              "    .colab-df-convert {\n",
              "      background-color: #E8F0FE;\n",
              "      border: none;\n",
              "      border-radius: 50%;\n",
              "      cursor: pointer;\n",
              "      display: none;\n",
              "      fill: #1967D2;\n",
              "      height: 32px;\n",
              "      padding: 0 0 0 0;\n",
              "      width: 32px;\n",
              "    }\n",
              "\n",
              "    .colab-df-convert:hover {\n",
              "      background-color: #E2EBFA;\n",
              "      box-shadow: 0px 1px 2px rgba(60, 64, 67, 0.3), 0px 1px 3px 1px rgba(60, 64, 67, 0.15);\n",
              "      fill: #174EA6;\n",
              "    }\n",
              "\n",
              "    [theme=dark] .colab-df-convert {\n",
              "      background-color: #3B4455;\n",
              "      fill: #D2E3FC;\n",
              "    }\n",
              "\n",
              "    [theme=dark] .colab-df-convert:hover {\n",
              "      background-color: #434B5C;\n",
              "      box-shadow: 0px 1px 3px 1px rgba(0, 0, 0, 0.15);\n",
              "      filter: drop-shadow(0px 1px 2px rgba(0, 0, 0, 0.3));\n",
              "      fill: #FFFFFF;\n",
              "    }\n",
              "  </style>\n",
              "\n",
              "      <script>\n",
              "        const buttonEl =\n",
              "          document.querySelector('#df-c6cd8092-ab38-4c37-8e13-3285d15923bc button.colab-df-convert');\n",
              "        buttonEl.style.display =\n",
              "          google.colab.kernel.accessAllowed ? 'block' : 'none';\n",
              "\n",
              "        async function convertToInteractive(key) {\n",
              "          const element = document.querySelector('#df-c6cd8092-ab38-4c37-8e13-3285d15923bc');\n",
              "          const dataTable =\n",
              "            await google.colab.kernel.invokeFunction('convertToInteractive',\n",
              "                                                     [key], {});\n",
              "          if (!dataTable) return;\n",
              "\n",
              "          const docLinkHtml = 'Like what you see? Visit the ' +\n",
              "            '<a target=\"_blank\" href=https://colab.research.google.com/notebooks/data_table.ipynb>data table notebook</a>'\n",
              "            + ' to learn more about interactive tables.';\n",
              "          element.innerHTML = '';\n",
              "          dataTable['output_type'] = 'display_data';\n",
              "          await google.colab.output.renderOutput(dataTable, element);\n",
              "          const docLink = document.createElement('div');\n",
              "          docLink.innerHTML = docLinkHtml;\n",
              "          element.appendChild(docLink);\n",
              "        }\n",
              "      </script>\n",
              "    </div>\n",
              "  </div>\n",
              "  "
            ]
          },
          "metadata": {},
          "execution_count": 51
        }
      ],
      "source": [
        "np.random.seed(1)\n",
        "y_rand = np.random.uniform(0, 1, size=len(y_val))\n",
        "df_rand = dataframe_tpr_fpr(y_val, y_rand)\n",
        "df_rand[::10]"
      ]
    },
    {
      "cell_type": "code",
      "execution_count": null,
      "id": "c795ff26",
      "metadata": {
        "colab": {
          "base_uri": "https://localhost:8080/",
          "height": 410
        },
        "id": "c795ff26",
        "outputId": "85a9b161-0921-4ee3-90c8-e4cbe7816e0a"
      },
      "outputs": [
        {
          "output_type": "display_data",
          "data": {
            "text/plain": [
              "<Figure size 600x400 with 1 Axes>"
            ],
            "image/png": "[encoded data removed]"
          },
          "metadata": {}
        }
      ],
      "source": [
        "plt.figure(figsize=(6, 4))\n",
        "\n",
        "plt.plot(df_rand.umbral, df_rand.tpr, color='black', linestyle='solid', label='TPR')\n",
        "plt.plot(df_rand.umbral, df_rand.fpr, color='black', linestyle='dashed', label='FPR')\n",
        "plt.legend()\n",
        "\n",
        "plt.xticks(np.linspace(0, 1, 11))\n",
        "plt.yticks(np.linspace(0, 1, 11))\n",
        "\n",
        "plt.xlabel('Umbrales')\n",
        "plt.title('TPR y FPR para el modelo aleatorio')\n",
        "\n",
        "plt.show()"
      ]
    },
    {
      "cell_type": "markdown",
      "id": "734e15e0",
      "metadata": {
        "id": "734e15e0"
      },
      "source": [
        "#### Baseline ideal"
      ]
    },
    {
      "cell_type": "code",
      "execution_count": null,
      "id": "e56d036b",
      "metadata": {
        "colab": {
          "base_uri": "https://localhost:8080/",
          "height": 394
        },
        "id": "e56d036b",
        "outputId": "10392add-d454-4562-95fb-affef401c272"
      },
      "outputs": [
        {
          "output_type": "execute_result",
          "data": {
            "text/plain": [
              "     umbral   tp    fp   fn    tn       tpr       fpr\n",
              "0       0.0  486  1374    0     0  1.000000  1.000000\n",
              "10      0.1  486  1188    0   186  1.000000  0.864629\n",
              "20      0.2  486  1002    0   372  1.000000  0.729258\n",
              "30      0.3  486   816    0   558  1.000000  0.593886\n",
              "40      0.4  486   630    0   744  1.000000  0.458515\n",
              "50      0.5  486   444    0   930  1.000000  0.323144\n",
              "60      0.6  486   258    0  1116  1.000000  0.187773\n",
              "70      0.7  486    72    0  1302  1.000000  0.052402\n",
              "80      0.8  372     0  114  1374  0.765432  0.000000\n",
              "90      0.9  186     0  300  1374  0.382716  0.000000\n",
              "100     1.0    1     0  485  1374  0.002058  0.000000"
            ],
            "text/html": [
              "\n",
              "  <div id=\"df-b5ba0edd-1014-4a80-ae32-65627b1e8ad3\">\n",
              "    <div class=\"colab-df-container\">\n",
              "      <div>\n",
              "<style scoped>\n",
              "    .dataframe tbody tr th:only-of-type {\n",
              "        vertical-align: middle;\n",
              "    }\n",
              "\n",
              "    .dataframe tbody tr th {\n",
              "        vertical-align: top;\n",
              "    }\n",
              "\n",
              "    .dataframe thead th {\n",
              "        text-align: right;\n",
              "    }\n",
              "</style>\n",
              "<table border=\"1\" class=\"dataframe\">\n",
              "  <thead>\n",
              "    <tr style=\"text-align: right;\">\n",
              "      <th></th>\n",
              "      <th>umbral</th>\n",
              "      <th>tp</th>\n",
              "      <th>fp</th>\n",
              "      <th>fn</th>\n",
              "      <th>tn</th>\n",
              "      <th>tpr</th>\n",
              "      <th>fpr</th>\n",
              "    </tr>\n",
              "  </thead>\n",
              "  <tbody>\n",
              "    <tr>\n",
              "      <th>0</th>\n",
              "      <td>0.0</td>\n",
              "      <td>486</td>\n",
              "      <td>1374</td>\n",
              "      <td>0</td>\n",
              "      <td>0</td>\n",
              "      <td>1.000000</td>\n",
              "      <td>1.000000</td>\n",
              "    </tr>\n",
              "    <tr>\n",
              "      <th>10</th>\n",
              "      <td>0.1</td>\n",
              "      <td>486</td>\n",
              "      <td>1188</td>\n",
              "      <td>0</td>\n",
              "      <td>186</td>\n",
              "      <td>1.000000</td>\n",
              "      <td>0.864629</td>\n",
              "    </tr>\n",
              "    <tr>\n",
              "      <th>20</th>\n",
              "      <td>0.2</td>\n",
              "      <td>486</td>\n",
              "      <td>1002</td>\n",
              "      <td>0</td>\n",
              "      <td>372</td>\n",
              "      <td>1.000000</td>\n",
              "      <td>0.729258</td>\n",
              "    </tr>\n",
              "    <tr>\n",
              "      <th>30</th>\n",
              "      <td>0.3</td>\n",
              "      <td>486</td>\n",
              "      <td>816</td>\n",
              "      <td>0</td>\n",
              "      <td>558</td>\n",
              "      <td>1.000000</td>\n",
              "      <td>0.593886</td>\n",
              "    </tr>\n",
              "    <tr>\n",
              "      <th>40</th>\n",
              "      <td>0.4</td>\n",
              "      <td>486</td>\n",
              "      <td>630</td>\n",
              "      <td>0</td>\n",
              "      <td>744</td>\n",
              "      <td>1.000000</td>\n",
              "      <td>0.458515</td>\n",
              "    </tr>\n",
              "    <tr>\n",
              "      <th>50</th>\n",
              "      <td>0.5</td>\n",
              "      <td>486</td>\n",
              "      <td>444</td>\n",
              "      <td>0</td>\n",
              "      <td>930</td>\n",
              "      <td>1.000000</td>\n",
              "      <td>0.323144</td>\n",
              "    </tr>\n",
              "    <tr>\n",
              "      <th>60</th>\n",
              "      <td>0.6</td>\n",
              "      <td>486</td>\n",
              "      <td>258</td>\n",
              "      <td>0</td>\n",
              "      <td>1116</td>\n",
              "      <td>1.000000</td>\n",
              "      <td>0.187773</td>\n",
              "    </tr>\n",
              "    <tr>\n",
              "      <th>70</th>\n",
              "      <td>0.7</td>\n",
              "      <td>486</td>\n",
              "      <td>72</td>\n",
              "      <td>0</td>\n",
              "      <td>1302</td>\n",
              "      <td>1.000000</td>\n",
              "      <td>0.052402</td>\n",
              "    </tr>\n",
              "    <tr>\n",
              "      <th>80</th>\n",
              "      <td>0.8</td>\n",
              "      <td>372</td>\n",
              "      <td>0</td>\n",
              "      <td>114</td>\n",
              "      <td>1374</td>\n",
              "      <td>0.765432</td>\n",
              "      <td>0.000000</td>\n",
              "    </tr>\n",
              "    <tr>\n",
              "      <th>90</th>\n",
              "      <td>0.9</td>\n",
              "      <td>186</td>\n",
              "      <td>0</td>\n",
              "      <td>300</td>\n",
              "      <td>1374</td>\n",
              "      <td>0.382716</td>\n",
              "      <td>0.000000</td>\n",
              "    </tr>\n",
              "    <tr>\n",
              "      <th>100</th>\n",
              "      <td>1.0</td>\n",
              "      <td>1</td>\n",
              "      <td>0</td>\n",
              "      <td>485</td>\n",
              "      <td>1374</td>\n",
              "      <td>0.002058</td>\n",
              "      <td>0.000000</td>\n",
              "    </tr>\n",
              "  </tbody>\n",
              "</table>\n",
              "</div>\n",
              "      <button class=\"colab-df-convert\" onclick=\"convertToInteractive('df-b5ba0edd-1014-4a80-ae32-65627b1e8ad3')\"\n",
              "              title=\"Convert this dataframe to an interactive table.\"\n",
              "              style=\"display:none;\">\n",
              "        \n",
              "  <svg xmlns=\"http://www.w3.org/2000/svg\" height=\"24px\"viewBox=\"0 0 24 24\"\n",
              "       width=\"24px\">\n",
              "    <path d=\"M0 0h24v24H0V0z\" fill=\"none\"/>\n",
              "    <path d=\"M18.56 5.44l.94 2.06.94-2.06 2.06-.94-2.06-.94-.94-2.06-.94 2.06-2.06.94zm-11 1L8.5 8.5l.94-2.06 2.06-.94-2.06-.94L8.5 2.5l-.94 2.06-2.06.94zm10 10l.94 2.06.94-2.06 2.06-.94-2.06-.94-.94-2.06-.94 2.06-2.06.94z\"/><path d=\"M17.41 7.96l-1.37-1.37c-.4-.4-.92-.59-1.43-.59-.52 0-1.04.2-1.43.59L10.3 9.45l-7.72 7.72c-.78.78-.78 2.05 0 2.83L4 21.41c.39.39.9.59 1.41.59.51 0 1.02-.2 1.41-.59l7.78-7.78 2.81-2.81c.8-.78.8-2.07 0-2.86zM5.41 20L4 18.59l7.72-7.72 1.47 1.35L5.41 20z\"/>\n",
              "  </svg>\n",
              "      </button>\n",
              "      \n",
              "  <style>\n",
              "    .colab-df-container {\n",
              "      display:flex;\n",
              "      flex-wrap:wrap;\n",
              "      gap: 12px;\n",
              "    }\n",
              "\n",
              "    .colab-df-convert {\n",
              "      background-color: #E8F0FE;\n",
              "      border: none;\n",
              "      border-radius: 50%;\n",
              "      cursor: pointer;\n",
              "      display: none;\n",
              "      fill: #1967D2;\n",
              "      height: 32px;\n",
              "      padding: 0 0 0 0;\n",
              "      width: 32px;\n",
              "    }\n",
              "\n",
              "    .colab-df-convert:hover {\n",
              "      background-color: #E2EBFA;\n",
              "      box-shadow: 0px 1px 2px rgba(60, 64, 67, 0.3), 0px 1px 3px 1px rgba(60, 64, 67, 0.15);\n",
              "      fill: #174EA6;\n",
              "    }\n",
              "\n",
              "    [theme=dark] .colab-df-convert {\n",
              "      background-color: #3B4455;\n",
              "      fill: #D2E3FC;\n",
              "    }\n",
              "\n",
              "    [theme=dark] .colab-df-convert:hover {\n",
              "      background-color: #434B5C;\n",
              "      box-shadow: 0px 1px 3px 1px rgba(0, 0, 0, 0.15);\n",
              "      filter: drop-shadow(0px 1px 2px rgba(0, 0, 0, 0.3));\n",
              "      fill: #FFFFFF;\n",
              "    }\n",
              "  </style>\n",
              "\n",
              "      <script>\n",
              "        const buttonEl =\n",
              "          document.querySelector('#df-b5ba0edd-1014-4a80-ae32-65627b1e8ad3 button.colab-df-convert');\n",
              "        buttonEl.style.display =\n",
              "          google.colab.kernel.accessAllowed ? 'block' : 'none';\n",
              "\n",
              "        async function convertToInteractive(key) {\n",
              "          const element = document.querySelector('#df-b5ba0edd-1014-4a80-ae32-65627b1e8ad3');\n",
              "          const dataTable =\n",
              "            await google.colab.kernel.invokeFunction('convertToInteractive',\n",
              "                                                     [key], {});\n",
              "          if (!dataTable) return;\n",
              "\n",
              "          const docLinkHtml = 'Like what you see? Visit the ' +\n",
              "            '<a target=\"_blank\" href=https://colab.research.google.com/notebooks/data_table.ipynb>data table notebook</a>'\n",
              "            + ' to learn more about interactive tables.';\n",
              "          element.innerHTML = '';\n",
              "          dataTable['output_type'] = 'display_data';\n",
              "          await google.colab.output.renderOutput(dataTable, element);\n",
              "          const docLink = document.createElement('div');\n",
              "          docLink.innerHTML = docLinkHtml;\n",
              "          element.appendChild(docLink);\n",
              "        }\n",
              "      </script>\n",
              "    </div>\n",
              "  </div>\n",
              "  "
            ]
          },
          "metadata": {},
          "execution_count": 53
        }
      ],
      "source": [
        "num_neg = (y_val == 0).sum()\n",
        "num_pos = (y_val == 1).sum()\n",
        "\n",
        "y_ideal = np.repeat([0, 1], [num_neg, num_pos])\n",
        "y_pred_ideal = np.linspace(0, 1, num_neg + num_pos)\n",
        "\n",
        "df_ideal = dataframe_tpr_fpr(y_ideal, y_pred_ideal)\n",
        "df_ideal[::10]"
      ]
    },
    {
      "cell_type": "code",
      "execution_count": null,
      "id": "2b36b21f",
      "metadata": {
        "colab": {
          "base_uri": "https://localhost:8080/",
          "height": 410
        },
        "id": "2b36b21f",
        "outputId": "13c519ac-5683-4930-e693-5244287b46f9"
      },
      "outputs": [
        {
          "output_type": "display_data",
          "data": {
            "text/plain": [
              "<Figure size 600x400 with 1 Axes>"
            ],
            "image/png": "[encoded data removed]"
          },
          "metadata": {}
        }
      ],
      "source": [
        "plt.figure(figsize=(6, 4))\n",
        "\n",
        "plt.plot(df_ideal.umbral, df_ideal.tpr, color='black', linestyle='solid', label='TPR')\n",
        "plt.plot(df_ideal.umbral, df_ideal.fpr, color='black', linestyle='dashed', label='FPR')\n",
        "plt.legend()\n",
        "\n",
        "plt.xticks(np.linspace(0, 1, 11))\n",
        "plt.yticks(np.linspace(0, 1, 11))\n",
        "\n",
        "plt.vlines(1 - y_val.mean(), -1, 2, linewidth=0.5, linestyle='dashed', color='grey')\n",
        "plt.ylim(-0.03, 1.03)\n",
        "\n",
        "plt.xlabel('Umbrales')\n",
        "plt.title('TPR y FPR para el modelo ideal')\n",
        "\n",
        "plt.show()"
      ]
    },
    {
      "cell_type": "markdown",
      "id": "a4349ea0",
      "metadata": {
        "id": "a4349ea0"
      },
      "source": [
        "#### Curva ROC"
      ]
    },
    {
      "cell_type": "code",
      "execution_count": null,
      "id": "4bc9ffd7",
      "metadata": {
        "colab": {
          "base_uri": "https://localhost:8080/",
          "height": 487
        },
        "id": "4bc9ffd7",
        "outputId": "f6c4b092-ab8b-42b5-95ab-298375bdaab8"
      },
      "outputs": [
        {
          "output_type": "display_data",
          "data": {
            "text/plain": [
              "<Figure size 500x500 with 1 Axes>"
            ],
            "image/png": "[encoded data removed]"
          },
          "metadata": {}
        }
      ],
      "source": [
        "plt.figure(figsize=(5, 5))\n",
        "\n",
        "plt.plot(df_puntuaciones.fpr, df_puntuaciones.tpr, color='red', label='Model')\n",
        "plt.plot(df_rand.fpr, df_rand.tpr, color='black', lw=1,\n",
        "         linestyle='dashed', alpha=0.5, label='Random')\n",
        "plt.plot(df_ideal.fpr, df_ideal.tpr, color='black', lw=0.5,\n",
        "         linestyle='solid', alpha=0.5, label='Ideal')\n",
        "\n",
        "plt.legend()\n",
        "\n",
        "plt.xlim([-0.02, 1.02])\n",
        "plt.ylim([-0.02, 1.02])\n",
        "plt.xlabel('Tasa de Falsos Positivos')\n",
        "plt.ylabel('Tasa de Verderos Positivos')\n",
        "\n",
        "plt.title('Curva ROC')\n",
        "\n",
        "\n",
        "plt.show()"
      ]
    },
    {
      "cell_type": "code",
      "execution_count": null,
      "id": "2a666c8d",
      "metadata": {
        "colab": {
          "base_uri": "https://localhost:8080/",
          "height": 487
        },
        "id": "2a666c8d",
        "outputId": "ac344275-7e57-43b2-a0fe-4a83fc096510"
      },
      "outputs": [
        {
          "output_type": "display_data",
          "data": {
            "text/plain": [
              "<Figure size 500x500 with 1 Axes>"
            ],
            "image/png": "[encoded data removed]"
          },
          "metadata": {}
        }
      ],
      "source": [
        "plt.figure(figsize=(5, 5))\n",
        "\n",
        "plt.plot(df_puntuaciones.fpr, df_puntuaciones.tpr, color='red')\n",
        "plt.plot([0, 1], [0, 1], color='black', lw=0.7, linestyle='dashed', alpha=0.5)\n",
        "\n",
        "plt.xlim([-0.02, 1.02])\n",
        "plt.ylim([-0.02, 1.02])\n",
        "plt.xlabel('Tasa de Falsos Positivos')\n",
        "plt.ylabel('Tasa de Verdaderos Negativos')\n",
        "\n",
        "plt.title('Curva ROC')\n",
        "\n",
        "plt.show()"
      ]
    },
    {
      "cell_type": "markdown",
      "id": "a94f5b98",
      "metadata": {
        "id": "a94f5b98"
      },
      "source": [
        "### Usando Scikit-Learn para dibujar la curva ROC"
      ]
    },
    {
      "cell_type": "code",
      "execution_count": null,
      "id": "4f1d5217",
      "metadata": {
        "id": "4f1d5217"
      },
      "outputs": [],
      "source": [
        "from sklearn.metrics import roc_curve\n",
        "from sklearn.metrics import auc"
      ]
    },
    {
      "cell_type": "code",
      "execution_count": null,
      "id": "df989dc6",
      "metadata": {
        "id": "df989dc6"
      },
      "outputs": [],
      "source": [
        "fpr, tpr, umbrales = roc_curve(y_val, y_pred)"
      ]
    },
    {
      "cell_type": "code",
      "execution_count": null,
      "id": "89ab4259",
      "metadata": {
        "colab": {
          "base_uri": "https://localhost:8080/",
          "height": 487
        },
        "id": "89ab4259",
        "outputId": "0cbac304-dc74-4bf0-e3ff-070ad6039de8"
      },
      "outputs": [
        {
          "output_type": "display_data",
          "data": {
            "text/plain": [
              "<Figure size 500x500 with 1 Axes>"
            ],
            "image/png": "[encoded data removed]"
          },
          "metadata": {}
        }
      ],
      "source": [
        "plt.figure(figsize=(5, 5))\n",
        "\n",
        "plt.plot(fpr, tpr, color='red')\n",
        "plt.plot([0, 1], [0, 1], color='black', lw=0.7, linestyle='dashed', alpha=0.5)\n",
        "\n",
        "plt.xlim([-0.02, 1.02])\n",
        "plt.ylim([-0.02, 1.02])\n",
        "plt.xlabel('Tasa de Falso Positivo')\n",
        "plt.ylabel('Tasa de Verdadero Positivo')\n",
        "\n",
        "plt.title('Curva ROC')\n",
        "\n",
        "plt.show()"
      ]
    },
    {
      "cell_type": "markdown",
      "id": "1db44e1c",
      "metadata": {
        "id": "1db44e1c"
      },
      "source": [
        "#### AUC: Area bajo la curva ROC"
      ]
    },
    {
      "cell_type": "code",
      "execution_count": null,
      "id": "c540de83",
      "metadata": {
        "id": "c540de83"
      },
      "outputs": [],
      "source": [
        "df_sub_puntuaciones = dataframe_tpr_fpr(y_val, sub_y_pred)"
      ]
    },
    {
      "cell_type": "code",
      "execution_count": null,
      "id": "819ab917",
      "metadata": {
        "colab": {
          "base_uri": "https://localhost:8080/"
        },
        "id": "819ab917",
        "outputId": "d7782f09-1c6f-4636-c543-bc8b3e9a239c"
      },
      "outputs": [
        {
          "output_type": "execute_result",
          "data": {
            "text/plain": [
              "0.8359001084215382"
            ]
          },
          "metadata": {},
          "execution_count": 62
        }
      ],
      "source": [
        "auc(df_puntuaciones.fpr, df_puntuaciones.tpr)"
      ]
    },
    {
      "cell_type": "code",
      "execution_count": null,
      "id": "eeea2046",
      "metadata": {
        "colab": {
          "base_uri": "https://localhost:8080/"
        },
        "id": "eeea2046",
        "outputId": "06ea296f-57b3-4659-9c3c-63ce8f3b27c9"
      },
      "outputs": [
        {
          "output_type": "execute_result",
          "data": {
            "text/plain": [
              "0.8125475467380692"
            ]
          },
          "metadata": {},
          "execution_count": 63
        }
      ],
      "source": [
        "auc(df_sub_puntuaciones.fpr, df_sub_puntuaciones.tpr)"
      ]
    },
    {
      "cell_type": "markdown",
      "id": "607ba405",
      "metadata": {
        "id": "607ba405"
      },
      "source": [
        "Comparando múltiples modelos con curvas ROC"
      ]
    },
    {
      "cell_type": "code",
      "execution_count": null,
      "id": "65de4922",
      "metadata": {
        "colab": {
          "base_uri": "https://localhost:8080/",
          "height": 487
        },
        "id": "65de4922",
        "outputId": "692b3baf-d849-4431-e716-1cf917d0dc6e"
      },
      "outputs": [
        {
          "output_type": "display_data",
          "data": {
            "text/plain": [
              "<Figure size 500x500 with 1 Axes>"
            ],
            "image/png": "[encoded data removed]"
          },
          "metadata": {}
        }
      ],
      "source": [
        "fpr_modelo1, tpr_modelo1, _ = roc_curve(y_val, y_pred)\n",
        "fpr_modelo2, tpr_modelo2, _ = roc_curve(y_val, sub_y_pred)\n",
        "\n",
        "plt.figure(figsize=(5, 5))\n",
        "\n",
        "plt.plot(fpr_modelo1, tpr_modelo1, color='red', linestyle='solid', label='Modelo1')\n",
        "plt.plot(fpr_modelo2, tpr_modelo2, color='green', linestyle='dashed', label='Modelo2')\n",
        "plt.plot([0, 1], [0, 1], color='black', lw=0.7, linestyle='dashed', alpha=0.5)\n",
        "\n",
        "plt.xlim([-0.02, 1.02])\n",
        "plt.ylim([-0.02, 1.02])\n",
        "plt.xlabel('Tasa de Falso Positivo')\n",
        "plt.ylabel('Tasa de Verdadero Positivo')\n",
        "\n",
        "plt.title('Curva ROC')\n",
        "plt.legend(loc='lower right')\n",
        "\n",
        "plt.show()"
      ]
    },
    {
      "cell_type": "code",
      "execution_count": null,
      "id": "f5c8187f",
      "metadata": {
        "id": "f5c8187f"
      },
      "outputs": [],
      "source": [
        "from sklearn.metrics import roc_auc_score"
      ]
    },
    {
      "cell_type": "code",
      "execution_count": null,
      "id": "fe66f5f0",
      "metadata": {
        "colab": {
          "base_uri": "https://localhost:8080/"
        },
        "id": "fe66f5f0",
        "outputId": "6a873d51-537f-46f4-92c1-e6209c656954"
      },
      "outputs": [
        {
          "output_type": "execute_result",
          "data": {
            "text/plain": [
              "0.8363366398907399"
            ]
          },
          "metadata": {},
          "execution_count": 68
        }
      ],
      "source": [
        "roc_auc_score(y_val, y_pred)"
      ]
    },
    {
      "cell_type": "code",
      "execution_count": null,
      "id": "d190eff1",
      "metadata": {
        "colab": {
          "base_uri": "https://localhost:8080/"
        },
        "id": "d190eff1",
        "outputId": "2c1aa2e7-7717-450a-a1d2-88b385097ca3"
      },
      "outputs": [
        {
          "output_type": "execute_result",
          "data": {
            "text/plain": [
              "0.8129354083179088"
            ]
          },
          "metadata": {},
          "execution_count": 69
        }
      ],
      "source": [
        "roc_auc_score(y_val, sub_y_pred)"
      ]
    },
    {
      "cell_type": "markdown",
      "id": "05f475ce",
      "metadata": {
        "id": "05f475ce"
      },
      "source": [
        "#### Interpretación de AUC\n",
        "\n",
        "La probabilidad de que un ejemplo positivo elegido al azar tenga una clasificación más alta que un ejemplo negativo elegido al azar."
      ]
    },
    {
      "cell_type": "code",
      "execution_count": null,
      "id": "773654ea",
      "metadata": {
        "id": "773654ea"
      },
      "outputs": [],
      "source": [
        "neg = y_pred[y_val == 0]\n",
        "pos = y_pred[y_val == 1]\n",
        "\n",
        "np.random.seed(1)\n",
        "neg_1 = np.random.randint(low=0, high=len(neg), size=10000)\n",
        "pos_1 = np.random.randint(low=0, high=len(pos), size=10000)\n",
        "(pos[pos_1] > neg[neg_1]).mean()\n"
      ]
    },
    {
      "cell_type": "markdown",
      "id": "d2fd626e",
      "metadata": {
        "id": "d2fd626e"
      },
      "source": [
        "### Validación cruzada"
      ]
    },
    {
      "cell_type": "code",
      "execution_count": null,
      "id": "b28a985e",
      "metadata": {
        "colab": {
          "base_uri": "https://localhost:8080/",
          "height": 160
        },
        "id": "b28a985e",
        "outputId": "ef43ccb8-23fd-4d05-b56b-00c8773880db"
      },
      "outputs": [
        {
          "output_type": "display_data",
          "data": {
            "text/plain": [
              "<Figure size 1200x200 with 1 Axes>"
            ],
            "image/png": "[encoded data removed]"
          },
          "metadata": {}
        }
      ],
      "source": [
        "from utilidades import *\n",
        "dibuja_validacion_cruzada()"
      ]
    },
    {
      "cell_type": "markdown",
      "id": "9caa451e",
      "metadata": {
        "id": "9caa451e"
      },
      "source": [
        "Entrenamiento del modelo."
      ]
    },
    {
      "cell_type": "code",
      "execution_count": null,
      "id": "dadecf68",
      "metadata": {
        "id": "dadecf68"
      },
      "outputs": [],
      "source": [
        "def entrenamiento(df, y):\n",
        "    cat = df[categoricas + numericas].to_dict(orient='records')\n",
        "    dv = DictVectorizer(sparse=False)\n",
        "    dv.fit(cat)\n",
        "\n",
        "    X = dv.transform(cat)\n",
        "\n",
        "    modelRL = LogisticRegression(solver='liblinear')\n",
        "    modelRL.fit(X, y)\n",
        "\n",
        "    return dv, modelRL"
      ]
    },
    {
      "cell_type": "markdown",
      "id": "a736d267",
      "metadata": {
        "id": "a736d267"
      },
      "source": [
        "Aplicación del modelo a nuevos datos."
      ]
    },
    {
      "cell_type": "code",
      "execution_count": null,
      "id": "c8ed70de",
      "metadata": {
        "id": "c8ed70de"
      },
      "outputs": [],
      "source": [
        "def predict(df, dv, modelo):\n",
        "    cat = df[categoricas+ numericas].to_dict(orient='records')\n",
        "    X = dv.transform(cat)\n",
        "\n",
        "    y_pred = modelo.predict_proba(X)[:, 1]\n",
        "\n",
        "    return y_pred"
      ]
    },
    {
      "cell_type": "code",
      "execution_count": null,
      "id": "5ab740ec",
      "metadata": {
        "id": "5ab740ec"
      },
      "outputs": [],
      "source": [
        "from sklearn.model_selection import KFold"
      ]
    },
    {
      "cell_type": "markdown",
      "id": "d7ad1873",
      "metadata": {
        "id": "d7ad1873"
      },
      "source": [
        "Ten en cuenta que al definir la división en la clase KFold, establecemos tres parámetros:\n",
        "\n",
        "* `n_splits = 10`: eso es K, que especifica el número de divisiones.\n",
        "* `shuffle = True`: pedimos que se mezcle los datos antes de dividirlos.\n",
        "* `random_state = 1`: debido a que hay aleatorización en el proceso (reorganización de datos), queremos que los resultados sean reproducibles, por lo que arreglamos la semilla para el generador de números aleatorios.\n"
      ]
    },
    {
      "cell_type": "code",
      "execution_count": null,
      "id": "f48c28d6",
      "metadata": {
        "id": "f48c28d6"
      },
      "outputs": [],
      "source": [
        "kfold = KFold(n_splits=10, shuffle=True, random_state=1)"
      ]
    },
    {
      "cell_type": "code",
      "execution_count": null,
      "id": "318f3be5",
      "metadata": {
        "id": "318f3be5"
      },
      "outputs": [],
      "source": [
        "aucs = []\n",
        "\n",
        "for train_idx, val_idx in kfold.split(df_train_completo):\n",
        "    df_train = df_train_completo.iloc[train_idx]\n",
        "    y_train = df_train.churn.values\n",
        "\n",
        "    df_val = df_train_completo.iloc[val_idx]\n",
        "    y_val = df_val.churn.values\n",
        "\n",
        "    dv, modelo = entrenamiento(df_train, y_train)\n",
        "    y_pred = predict(df_val, dv, modelo)\n",
        "\n",
        "    rocauc = roc_auc_score(y_val, y_pred)\n",
        "    aucs.append(rocauc)"
      ]
    },
    {
      "cell_type": "code",
      "execution_count": null,
      "id": "989b48de",
      "metadata": {
        "colab": {
          "base_uri": "https://localhost:8080/"
        },
        "id": "989b48de",
        "outputId": "0ef0c435-f9f6-4c38-f3f6-37a283822ac1"
      },
      "outputs": [
        {
          "output_type": "execute_result",
          "data": {
            "text/plain": [
              "array([0.849, 0.841, 0.859, 0.833, 0.824, 0.842, 0.844, 0.822, 0.845,\n",
              "       0.861])"
            ]
          },
          "metadata": {},
          "execution_count": 77
        }
      ],
      "source": [
        "np.array(aucs).round(3)"
      ]
    },
    {
      "cell_type": "markdown",
      "id": "455200c7",
      "metadata": {
        "id": "455200c7"
      },
      "source": [
        "Podemos obtener algunas estadísticas de esta distribución, como la media y la desviación estándar:"
      ]
    },
    {
      "cell_type": "code",
      "execution_count": null,
      "id": "6316eb8f",
      "metadata": {
        "id": "6316eb8f"
      },
      "outputs": [],
      "source": [
        "print('auc = %0.3f ± %0.3f' % (np.mean(aucs), np.std(aucs)))"
      ]
    },
    {
      "cell_type": "markdown",
      "id": "7472f97b",
      "metadata": {
        "id": "7472f97b"
      },
      "source": [
        "#### Busquemos los mejores parámetros\n",
        "\n",
        "Seeleccionamos el mejor parámetro C."
      ]
    },
    {
      "cell_type": "code",
      "execution_count": null,
      "id": "9ea009f6",
      "metadata": {
        "id": "9ea009f6"
      },
      "outputs": [],
      "source": [
        "def entrenamiento(df, y, C=1.0):\n",
        "    cat = df[categoricas + numericas].to_dict(orient='records')\n",
        "    dv = DictVectorizer(sparse=False)\n",
        "    dv.fit(cat)\n",
        "\n",
        "    X = dv.transform(cat)\n",
        "\n",
        "    modelRL = LogisticRegression(solver='liblinear')\n",
        "    modelRL.fit(X, y)\n",
        "\n",
        "    return dv, modelRL"
      ]
    },
    {
      "cell_type": "markdown",
      "id": "09e3a417",
      "metadata": {
        "id": "09e3a417"
      },
      "source": [
        "Afinando el modelo: seleccionando el mejor parámetro C usando validación cruzada"
      ]
    },
    {
      "cell_type": "code",
      "execution_count": null,
      "id": "7f7460c9",
      "metadata": {
        "colab": {
          "base_uri": "https://localhost:8080/"
        },
        "id": "7f7460c9",
        "outputId": "ba00beda-f447-4fb7-e910-3c1c2e2a40e7"
      },
      "outputs": [
        {
          "output_type": "stream",
          "name": "stdout",
          "text": [
            "C=0.001, auc = 0.841 ± 0.007\n",
            "C=0.01, auc = 0.841 ± 0.007\n",
            "C=0.1, auc = 0.841 ± 0.007\n",
            "C=0.5, auc = 0.841 ± 0.007\n",
            "C=1, auc = 0.841 ± 0.007\n",
            "C=10, auc = 0.841 ± 0.007\n"
          ]
        }
      ],
      "source": [
        "nfolds = 5\n",
        "kfold = KFold(n_splits=nfolds, shuffle=True, random_state=1)\n",
        "\n",
        "for C in [0.001, 0.01, 0.1, 0.5, 1, 10]:\n",
        "    aucs = []\n",
        "\n",
        "    for train_idx, val_idx in kfold.split(df_train_completo):\n",
        "        df_train = df_train_completo.iloc[train_idx]\n",
        "        df_val = df_train_completo.iloc[val_idx]\n",
        "\n",
        "        y_train = df_train.churn.values\n",
        "        y_val = df_val.churn.values\n",
        "\n",
        "        dv, modelo = entrenamiento(df_train, y_train, C=C)\n",
        "        y_pred = predict(df_val, dv, modelo)\n",
        "\n",
        "        auc = roc_auc_score(y_val, y_pred)\n",
        "        aucs.append(auc)\n",
        "\n",
        "    print('C=%s, auc = %0.3f ± %0.3f' % (C, np.mean(aucs), np.std(aucs)))"
      ]
    },
    {
      "cell_type": "markdown",
      "id": "a3d3a73c",
      "metadata": {
        "id": "a3d3a73c"
      },
      "source": [
        "Ahora entrenamos el modelo en todos los conjuntos de datos de entrenamiento y validación y aplicarlo al conjunto de datos de prueba para verificar que realmente funciona bien.\n"
      ]
    },
    {
      "cell_type": "code",
      "execution_count": null,
      "id": "cb266383",
      "metadata": {
        "colab": {
          "base_uri": "https://localhost:8080/"
        },
        "id": "cb266383",
        "outputId": "825c707e-6cb9-4c74-ec59-da465443de16"
      },
      "outputs": [
        {
          "output_type": "stream",
          "name": "stdout",
          "text": [
            "auc = 0.858\n"
          ]
        }
      ],
      "source": [
        "y_train = df_train_completo.churn.values\n",
        "y_test = df_test.churn.values\n",
        "\n",
        "dv, modelo = entrenamiento(df_train_completo, y_train, C=0.5)\n",
        "y_pred = predict(df_test, dv, modelo)\n",
        "\n",
        "auc = roc_auc_score(y_test, y_pred)\n",
        "print('auc = %.3f' % auc)"
      ]
    },
    {
      "cell_type": "markdown",
      "id": "177f56d9",
      "metadata": {
        "id": "177f56d9"
      },
      "source": [
        "### Ejercicio"
      ]
    },
    {
      "cell_type": "markdown",
      "id": "09d556c0",
      "metadata": {
        "id": "09d556c0"
      },
      "source": [
        "1. En este cuaderno, dibujamos el TPR y FPR para diferentes valores de un umbral, que ayudan a comprender qué significan estas métricas y también cómo cambia el rendimiento del modelo cuando elegimos un umbral diferente. Es útil hacer un ejercicio similar para la precisión y la exhaustividad, así que intenta repetir este experimento, esta vez usando  la precisión y la exhaustividad en lugar de TPR y FPR.\n"
      ]
    },
    {
      "cell_type": "code",
      "execution_count": null,
      "id": "49bb3623",
      "metadata": {
        "id": "49bb3623"
      },
      "outputs": [],
      "source": [
        "## Tu respuesta"
      ]
    },
    {
      "cell_type": "markdown",
      "id": "e4c07c20",
      "metadata": {
        "id": "e4c07c20"
      },
      "source": [
        "2. Al dibujar la precisión y la exhaustividad para diferentes valores de umbral, podemos ver que existe un conflicto entre  la precisión y la exhaustividad: cuando una sube, la otra baja y viceversa. Esto se denomina `compensación de  la precisión y la exhaustividad`: no podemos seleccionar un umbral que haga que tanto la precisión como la exhaustividad sean buenas. Sin embargo, tenemos estrategias para seleccionar el umbral, aunque la precisión y exahustividad están en conflicto. Uno de ellos es dibujar curvas de precisión y exahustividad y ver dónde se cruzan, y usar este umbral para binarizar las predicciones. Intenta implementar esta idea.\n"
      ]
    },
    {
      "cell_type": "code",
      "execution_count": null,
      "id": "230b0cfb",
      "metadata": {
        "id": "230b0cfb"
      },
      "outputs": [],
      "source": [
        "### Tu respuesta"
      ]
    },
    {
      "cell_type": "markdown",
      "id": "746c8c0c",
      "metadata": {
        "id": "746c8c0c"
      },
      "source": [
        "3. Otra idea para evitar el equilibrio entre  la precisión y la exhaustividad es la puntuación F1, una puntuación que combina la  precisión y la exhaustividad en un solo valor. Luego, para seleccionar el mejor umbral, simplemente podemos elegir el que maximiza la puntuación F1. La fórmula para calcular la puntuación F1 es:  $F1 = 2\\cdot P\\cdot R / (P + R)$, donde $P$ es la precisión  y $R$ es la exahustividad. Implementa esta idea y selecciona el mejor umbral según la métrica F1.\n",
        "\n"
      ]
    },
    {
      "cell_type": "code",
      "execution_count": null,
      "id": "0b2a9dfb",
      "metadata": {
        "id": "0b2a9dfb"
      },
      "outputs": [],
      "source": [
        "## Tu respuesta"
      ]
    },
    {
      "cell_type": "markdown",
      "id": "e27f6d3e",
      "metadata": {
        "id": "e27f6d3e"
      },
      "source": [
        "4. Cubrimos la validación cruzada de K-fold y la usamos para comprender cómo podría verse la distribución de las puntuaciones de AUC en un conjunto de datos de prueba. Cuando $K = 10$, obtenemos 10 observaciones, que en algunas circunstancias pueden no ser suficientes. Sin embargo, la idea se puede extender a pasos repetidos de validación cruzada de K-fold. El proceso es simple: repetimos el proceso de validación cruzada de K-fold varias veces, cada vez que mezclamos el conjunto de datos de manera diferente seleccionando una semilla aleatoria diferente en cada iteración. Implementa una validación cruzada repetida y realice una validación cruzada de 10 -fold 10 veces para ver cómo se ve la distribución de las puntuaciones."
      ]
    },
    {
      "cell_type": "code",
      "execution_count": null,
      "id": "b1e9a6dc",
      "metadata": {
        "id": "b1e9a6dc"
      },
      "outputs": [],
      "source": [
        "## Tu respuesta"
      ]
    },
    {
      "cell_type": "markdown",
      "id": "002b7ad2",
      "metadata": {
        "id": "002b7ad2"
      },
      "source": [
        "5. Utiliza el proyecto de puntuación de clientes potenciales y el proyecto de predicción predeterminada. Prueba lo siguiente:\n",
        "\n",
        " - Calcula todas las métricas que cubrimos en este cuaderno: la tabla de confusión, exactitud y recuperación, y AUC. También trata de calcular los puntajes de los ejercicios: el puntaje F1 así como el AU PR (el área bajo la curva de recuperación de exactitud).\n",
        " - Utiliza la validación cruzada K-fold para seleccionar el mejor parámetro C para el modelo.\n"
      ]
    },
    {
      "cell_type": "code",
      "execution_count": null,
      "id": "e604bcbb",
      "metadata": {
        "id": "e604bcbb"
      },
      "outputs": [],
      "source": [
        "## Tu respuesta"
      ]
    },
    {
      "cell_type": "code",
      "execution_count": null,
      "id": "c825ed4d",
      "metadata": {
        "id": "c825ed4d"
      },
      "outputs": [],
      "source": []
    }
  ],
  "metadata": {
    "kernelspec": {
      "display_name": "Python 3",
      "language": "python",
      "name": "python3"
    },
    "language_info": {
      "codemirror_mode": {
        "name": "ipython",
        "version": 3
      },
      "file_extension": ".py",
      "mimetype": "text/x-python",
      "name": "python",
      "nbconvert_exporter": "python",
      "pygments_lexer": "ipython3",
      "version": "3.7.10"
    },
    "colab": {
      "provenance": []
    }
  },
  "nbformat": 4,
  "nbformat_minor": 5
}